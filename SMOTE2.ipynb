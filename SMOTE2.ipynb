{
  "nbformat": 4,
  "nbformat_minor": 0,
  "metadata": {
    "colab": {
      "name": "SMOTE2.ipynb",
      "provenance": [],
      "authorship_tag": "ABX9TyNpUAIYrsjkFdvM6tcHQ7z2",
      "include_colab_link": true
    },
    "kernelspec": {
      "name": "python3",
      "display_name": "Python 3"
    },
    "language_info": {
      "name": "python"
    }
  },
  "cells": [
    {
      "cell_type": "markdown",
      "metadata": {
        "id": "view-in-github",
        "colab_type": "text"
      },
      "source": [
        "<a href=\"https://colab.research.google.com/github/Myavuzars/MachineLearning/blob/main/SMOTE2.ipynb\" target=\"_parent\"><img src=\"https://colab.research.google.com/assets/colab-badge.svg\" alt=\"Open In Colab\"/></a>"
      ]
    },
    {
      "cell_type": "code",
      "execution_count": 1,
      "metadata": {
        "id": "MNAQrx6dGVI2"
      },
      "outputs": [],
      "source": [
        "import pandas as pd\n",
        "import numpy as np\n",
        "%matplotlib inline\n",
        "import matplotlib.pyplot as plt\n",
        "import seaborn as sns"
      ]
    },
    {
      "cell_type": "code",
      "source": [
        "import warnings\n",
        "warnings.filterwarnings('ignore')"
      ],
      "metadata": {
        "id": "FO-HSWBmGZUj"
      },
      "execution_count": 2,
      "outputs": []
    },
    {
      "cell_type": "code",
      "source": [
        "#SKLEARN\n",
        "from sklearn.metrics import accuracy_score, confusion_matrix, roc_auc_score, precision_score, recall_score, precision_recall_curve\n",
        "from sklearn.model_selection import train_test_split\n",
        "from sklearn.preprocessing import StandardScaler\n",
        "\n",
        "from xgboost import XGBClassifier\n",
        "from sklearn.svm import LinearSVC\n",
        "from sklearn.ensemble import RandomForestClassifier"
      ],
      "metadata": {
        "id": "PTMAebswGZYr"
      },
      "execution_count": 3,
      "outputs": []
    },
    {
      "cell_type": "code",
      "source": [
        "from google.colab import drive\n",
        "drive.mount('/content/drive')"
      ],
      "metadata": {
        "colab": {
          "base_uri": "https://localhost:8080/"
        },
        "id": "P64b0TJJGZaU",
        "outputId": "14505cfe-5bc7-4f8c-c0ec-2492c5c76321"
      },
      "execution_count": 4,
      "outputs": [
        {
          "output_type": "stream",
          "name": "stdout",
          "text": [
            "Mounted at /content/drive\n"
          ]
        }
      ]
    },
    {
      "cell_type": "code",
      "source": [
        "df = pd.read_csv(\n",
        "    \"/content/drive/MyDrive/Colab Notebooks/Machine Learning /Customer-Churn.csv\")\n",
        "\n",
        "df.head(4)"
      ],
      "metadata": {
        "colab": {
          "base_uri": "https://localhost:8080/",
          "height": 308
        },
        "id": "_HdQvhZWGZcG",
        "outputId": "3e7991ca-79cb-4962-99d9-1469b425a01a"
      },
      "execution_count": 5,
      "outputs": [
        {
          "output_type": "execute_result",
          "data": {
            "text/html": [
              "\n",
              "  <div id=\"df-809445ad-33e0-48d4-952a-d68ccfb967f3\">\n",
              "    <div class=\"colab-df-container\">\n",
              "      <div>\n",
              "<style scoped>\n",
              "    .dataframe tbody tr th:only-of-type {\n",
              "        vertical-align: middle;\n",
              "    }\n",
              "\n",
              "    .dataframe tbody tr th {\n",
              "        vertical-align: top;\n",
              "    }\n",
              "\n",
              "    .dataframe thead th {\n",
              "        text-align: right;\n",
              "    }\n",
              "</style>\n",
              "<table border=\"1\" class=\"dataframe\">\n",
              "  <thead>\n",
              "    <tr style=\"text-align: right;\">\n",
              "      <th></th>\n",
              "      <th>customerID</th>\n",
              "      <th>gender</th>\n",
              "      <th>SeniorCitizen</th>\n",
              "      <th>Partner</th>\n",
              "      <th>Dependents</th>\n",
              "      <th>tenure</th>\n",
              "      <th>PhoneService</th>\n",
              "      <th>MultipleLines</th>\n",
              "      <th>InternetService</th>\n",
              "      <th>OnlineSecurity</th>\n",
              "      <th>OnlineBackup</th>\n",
              "      <th>DeviceProtection</th>\n",
              "      <th>TechSupport</th>\n",
              "      <th>StreamingTV</th>\n",
              "      <th>StreamingMovies</th>\n",
              "      <th>Contract</th>\n",
              "      <th>PaperlessBilling</th>\n",
              "      <th>PaymentMethod</th>\n",
              "      <th>MonthlyCharges</th>\n",
              "      <th>TotalCharges</th>\n",
              "      <th>Churn</th>\n",
              "    </tr>\n",
              "  </thead>\n",
              "  <tbody>\n",
              "    <tr>\n",
              "      <th>0</th>\n",
              "      <td>7590-VHVEG</td>\n",
              "      <td>Female</td>\n",
              "      <td>0</td>\n",
              "      <td>Yes</td>\n",
              "      <td>No</td>\n",
              "      <td>1</td>\n",
              "      <td>No</td>\n",
              "      <td>No phone service</td>\n",
              "      <td>DSL</td>\n",
              "      <td>No</td>\n",
              "      <td>Yes</td>\n",
              "      <td>No</td>\n",
              "      <td>No</td>\n",
              "      <td>No</td>\n",
              "      <td>No</td>\n",
              "      <td>Month-to-month</td>\n",
              "      <td>Yes</td>\n",
              "      <td>Electronic check</td>\n",
              "      <td>29.85</td>\n",
              "      <td>29.85</td>\n",
              "      <td>No</td>\n",
              "    </tr>\n",
              "    <tr>\n",
              "      <th>1</th>\n",
              "      <td>5575-GNVDE</td>\n",
              "      <td>Male</td>\n",
              "      <td>0</td>\n",
              "      <td>No</td>\n",
              "      <td>No</td>\n",
              "      <td>34</td>\n",
              "      <td>Yes</td>\n",
              "      <td>No</td>\n",
              "      <td>DSL</td>\n",
              "      <td>Yes</td>\n",
              "      <td>No</td>\n",
              "      <td>Yes</td>\n",
              "      <td>No</td>\n",
              "      <td>No</td>\n",
              "      <td>No</td>\n",
              "      <td>One year</td>\n",
              "      <td>No</td>\n",
              "      <td>Mailed check</td>\n",
              "      <td>56.95</td>\n",
              "      <td>1889.5</td>\n",
              "      <td>No</td>\n",
              "    </tr>\n",
              "    <tr>\n",
              "      <th>2</th>\n",
              "      <td>3668-QPYBK</td>\n",
              "      <td>Male</td>\n",
              "      <td>0</td>\n",
              "      <td>No</td>\n",
              "      <td>No</td>\n",
              "      <td>2</td>\n",
              "      <td>Yes</td>\n",
              "      <td>No</td>\n",
              "      <td>DSL</td>\n",
              "      <td>Yes</td>\n",
              "      <td>Yes</td>\n",
              "      <td>No</td>\n",
              "      <td>No</td>\n",
              "      <td>No</td>\n",
              "      <td>No</td>\n",
              "      <td>Month-to-month</td>\n",
              "      <td>Yes</td>\n",
              "      <td>Mailed check</td>\n",
              "      <td>53.85</td>\n",
              "      <td>108.15</td>\n",
              "      <td>Yes</td>\n",
              "    </tr>\n",
              "    <tr>\n",
              "      <th>3</th>\n",
              "      <td>7795-CFOCW</td>\n",
              "      <td>Male</td>\n",
              "      <td>0</td>\n",
              "      <td>No</td>\n",
              "      <td>No</td>\n",
              "      <td>45</td>\n",
              "      <td>No</td>\n",
              "      <td>No phone service</td>\n",
              "      <td>DSL</td>\n",
              "      <td>Yes</td>\n",
              "      <td>No</td>\n",
              "      <td>Yes</td>\n",
              "      <td>Yes</td>\n",
              "      <td>No</td>\n",
              "      <td>No</td>\n",
              "      <td>One year</td>\n",
              "      <td>No</td>\n",
              "      <td>Bank transfer (automatic)</td>\n",
              "      <td>42.30</td>\n",
              "      <td>1840.75</td>\n",
              "      <td>No</td>\n",
              "    </tr>\n",
              "  </tbody>\n",
              "</table>\n",
              "</div>\n",
              "      <button class=\"colab-df-convert\" onclick=\"convertToInteractive('df-809445ad-33e0-48d4-952a-d68ccfb967f3')\"\n",
              "              title=\"Convert this dataframe to an interactive table.\"\n",
              "              style=\"display:none;\">\n",
              "        \n",
              "  <svg xmlns=\"http://www.w3.org/2000/svg\" height=\"24px\"viewBox=\"0 0 24 24\"\n",
              "       width=\"24px\">\n",
              "    <path d=\"M0 0h24v24H0V0z\" fill=\"none\"/>\n",
              "    <path d=\"M18.56 5.44l.94 2.06.94-2.06 2.06-.94-2.06-.94-.94-2.06-.94 2.06-2.06.94zm-11 1L8.5 8.5l.94-2.06 2.06-.94-2.06-.94L8.5 2.5l-.94 2.06-2.06.94zm10 10l.94 2.06.94-2.06 2.06-.94-2.06-.94-.94-2.06-.94 2.06-2.06.94z\"/><path d=\"M17.41 7.96l-1.37-1.37c-.4-.4-.92-.59-1.43-.59-.52 0-1.04.2-1.43.59L10.3 9.45l-7.72 7.72c-.78.78-.78 2.05 0 2.83L4 21.41c.39.39.9.59 1.41.59.51 0 1.02-.2 1.41-.59l7.78-7.78 2.81-2.81c.8-.78.8-2.07 0-2.86zM5.41 20L4 18.59l7.72-7.72 1.47 1.35L5.41 20z\"/>\n",
              "  </svg>\n",
              "      </button>\n",
              "      \n",
              "  <style>\n",
              "    .colab-df-container {\n",
              "      display:flex;\n",
              "      flex-wrap:wrap;\n",
              "      gap: 12px;\n",
              "    }\n",
              "\n",
              "    .colab-df-convert {\n",
              "      background-color: #E8F0FE;\n",
              "      border: none;\n",
              "      border-radius: 50%;\n",
              "      cursor: pointer;\n",
              "      display: none;\n",
              "      fill: #1967D2;\n",
              "      height: 32px;\n",
              "      padding: 0 0 0 0;\n",
              "      width: 32px;\n",
              "    }\n",
              "\n",
              "    .colab-df-convert:hover {\n",
              "      background-color: #E2EBFA;\n",
              "      box-shadow: 0px 1px 2px rgba(60, 64, 67, 0.3), 0px 1px 3px 1px rgba(60, 64, 67, 0.15);\n",
              "      fill: #174EA6;\n",
              "    }\n",
              "\n",
              "    [theme=dark] .colab-df-convert {\n",
              "      background-color: #3B4455;\n",
              "      fill: #D2E3FC;\n",
              "    }\n",
              "\n",
              "    [theme=dark] .colab-df-convert:hover {\n",
              "      background-color: #434B5C;\n",
              "      box-shadow: 0px 1px 3px 1px rgba(0, 0, 0, 0.15);\n",
              "      filter: drop-shadow(0px 1px 2px rgba(0, 0, 0, 0.3));\n",
              "      fill: #FFFFFF;\n",
              "    }\n",
              "  </style>\n",
              "\n",
              "      <script>\n",
              "        const buttonEl =\n",
              "          document.querySelector('#df-809445ad-33e0-48d4-952a-d68ccfb967f3 button.colab-df-convert');\n",
              "        buttonEl.style.display =\n",
              "          google.colab.kernel.accessAllowed ? 'block' : 'none';\n",
              "\n",
              "        async function convertToInteractive(key) {\n",
              "          const element = document.querySelector('#df-809445ad-33e0-48d4-952a-d68ccfb967f3');\n",
              "          const dataTable =\n",
              "            await google.colab.kernel.invokeFunction('convertToInteractive',\n",
              "                                                     [key], {});\n",
              "          if (!dataTable) return;\n",
              "\n",
              "          const docLinkHtml = 'Like what you see? Visit the ' +\n",
              "            '<a target=\"_blank\" href=https://colab.research.google.com/notebooks/data_table.ipynb>data table notebook</a>'\n",
              "            + ' to learn more about interactive tables.';\n",
              "          element.innerHTML = '';\n",
              "          dataTable['output_type'] = 'display_data';\n",
              "          await google.colab.output.renderOutput(dataTable, element);\n",
              "          const docLink = document.createElement('div');\n",
              "          docLink.innerHTML = docLinkHtml;\n",
              "          element.appendChild(docLink);\n",
              "        }\n",
              "      </script>\n",
              "    </div>\n",
              "  </div>\n",
              "  "
            ],
            "text/plain": [
              "   customerID  gender  SeniorCitizen  ... MonthlyCharges TotalCharges  Churn\n",
              "0  7590-VHVEG  Female              0  ...          29.85        29.85     No\n",
              "1  5575-GNVDE    Male              0  ...          56.95       1889.5     No\n",
              "2  3668-QPYBK    Male              0  ...          53.85       108.15    Yes\n",
              "3  7795-CFOCW    Male              0  ...          42.30      1840.75     No\n",
              "\n",
              "[4 rows x 21 columns]"
            ]
          },
          "metadata": {},
          "execution_count": 5
        }
      ]
    },
    {
      "cell_type": "code",
      "source": [
        "df.drop(['customerID'], axis=1, inplace=True)"
      ],
      "metadata": {
        "id": "-XS35TBVGZd6"
      },
      "execution_count": 6,
      "outputs": []
    },
    {
      "cell_type": "code",
      "source": [
        "#Splitting data into Numerical and Categorical\n",
        "catdf =df.iloc[:,:-3]\n",
        "numdf= df.iloc[:,-3:-1]\n",
        "y= df.iloc[:,-1]\n",
        "numdf.head()"
      ],
      "metadata": {
        "colab": {
          "base_uri": "https://localhost:8080/",
          "height": 206
        },
        "id": "dL1wLqi5GlP7",
        "outputId": "b6171361-a15f-4758-957d-8edaa50b2225"
      },
      "execution_count": 7,
      "outputs": [
        {
          "output_type": "execute_result",
          "data": {
            "text/html": [
              "\n",
              "  <div id=\"df-3aea5f34-c5b6-4015-b151-ba71316cbdb6\">\n",
              "    <div class=\"colab-df-container\">\n",
              "      <div>\n",
              "<style scoped>\n",
              "    .dataframe tbody tr th:only-of-type {\n",
              "        vertical-align: middle;\n",
              "    }\n",
              "\n",
              "    .dataframe tbody tr th {\n",
              "        vertical-align: top;\n",
              "    }\n",
              "\n",
              "    .dataframe thead th {\n",
              "        text-align: right;\n",
              "    }\n",
              "</style>\n",
              "<table border=\"1\" class=\"dataframe\">\n",
              "  <thead>\n",
              "    <tr style=\"text-align: right;\">\n",
              "      <th></th>\n",
              "      <th>MonthlyCharges</th>\n",
              "      <th>TotalCharges</th>\n",
              "    </tr>\n",
              "  </thead>\n",
              "  <tbody>\n",
              "    <tr>\n",
              "      <th>0</th>\n",
              "      <td>29.85</td>\n",
              "      <td>29.85</td>\n",
              "    </tr>\n",
              "    <tr>\n",
              "      <th>1</th>\n",
              "      <td>56.95</td>\n",
              "      <td>1889.5</td>\n",
              "    </tr>\n",
              "    <tr>\n",
              "      <th>2</th>\n",
              "      <td>53.85</td>\n",
              "      <td>108.15</td>\n",
              "    </tr>\n",
              "    <tr>\n",
              "      <th>3</th>\n",
              "      <td>42.30</td>\n",
              "      <td>1840.75</td>\n",
              "    </tr>\n",
              "    <tr>\n",
              "      <th>4</th>\n",
              "      <td>70.70</td>\n",
              "      <td>151.65</td>\n",
              "    </tr>\n",
              "  </tbody>\n",
              "</table>\n",
              "</div>\n",
              "      <button class=\"colab-df-convert\" onclick=\"convertToInteractive('df-3aea5f34-c5b6-4015-b151-ba71316cbdb6')\"\n",
              "              title=\"Convert this dataframe to an interactive table.\"\n",
              "              style=\"display:none;\">\n",
              "        \n",
              "  <svg xmlns=\"http://www.w3.org/2000/svg\" height=\"24px\"viewBox=\"0 0 24 24\"\n",
              "       width=\"24px\">\n",
              "    <path d=\"M0 0h24v24H0V0z\" fill=\"none\"/>\n",
              "    <path d=\"M18.56 5.44l.94 2.06.94-2.06 2.06-.94-2.06-.94-.94-2.06-.94 2.06-2.06.94zm-11 1L8.5 8.5l.94-2.06 2.06-.94-2.06-.94L8.5 2.5l-.94 2.06-2.06.94zm10 10l.94 2.06.94-2.06 2.06-.94-2.06-.94-.94-2.06-.94 2.06-2.06.94z\"/><path d=\"M17.41 7.96l-1.37-1.37c-.4-.4-.92-.59-1.43-.59-.52 0-1.04.2-1.43.59L10.3 9.45l-7.72 7.72c-.78.78-.78 2.05 0 2.83L4 21.41c.39.39.9.59 1.41.59.51 0 1.02-.2 1.41-.59l7.78-7.78 2.81-2.81c.8-.78.8-2.07 0-2.86zM5.41 20L4 18.59l7.72-7.72 1.47 1.35L5.41 20z\"/>\n",
              "  </svg>\n",
              "      </button>\n",
              "      \n",
              "  <style>\n",
              "    .colab-df-container {\n",
              "      display:flex;\n",
              "      flex-wrap:wrap;\n",
              "      gap: 12px;\n",
              "    }\n",
              "\n",
              "    .colab-df-convert {\n",
              "      background-color: #E8F0FE;\n",
              "      border: none;\n",
              "      border-radius: 50%;\n",
              "      cursor: pointer;\n",
              "      display: none;\n",
              "      fill: #1967D2;\n",
              "      height: 32px;\n",
              "      padding: 0 0 0 0;\n",
              "      width: 32px;\n",
              "    }\n",
              "\n",
              "    .colab-df-convert:hover {\n",
              "      background-color: #E2EBFA;\n",
              "      box-shadow: 0px 1px 2px rgba(60, 64, 67, 0.3), 0px 1px 3px 1px rgba(60, 64, 67, 0.15);\n",
              "      fill: #174EA6;\n",
              "    }\n",
              "\n",
              "    [theme=dark] .colab-df-convert {\n",
              "      background-color: #3B4455;\n",
              "      fill: #D2E3FC;\n",
              "    }\n",
              "\n",
              "    [theme=dark] .colab-df-convert:hover {\n",
              "      background-color: #434B5C;\n",
              "      box-shadow: 0px 1px 3px 1px rgba(0, 0, 0, 0.15);\n",
              "      filter: drop-shadow(0px 1px 2px rgba(0, 0, 0, 0.3));\n",
              "      fill: #FFFFFF;\n",
              "    }\n",
              "  </style>\n",
              "\n",
              "      <script>\n",
              "        const buttonEl =\n",
              "          document.querySelector('#df-3aea5f34-c5b6-4015-b151-ba71316cbdb6 button.colab-df-convert');\n",
              "        buttonEl.style.display =\n",
              "          google.colab.kernel.accessAllowed ? 'block' : 'none';\n",
              "\n",
              "        async function convertToInteractive(key) {\n",
              "          const element = document.querySelector('#df-3aea5f34-c5b6-4015-b151-ba71316cbdb6');\n",
              "          const dataTable =\n",
              "            await google.colab.kernel.invokeFunction('convertToInteractive',\n",
              "                                                     [key], {});\n",
              "          if (!dataTable) return;\n",
              "\n",
              "          const docLinkHtml = 'Like what you see? Visit the ' +\n",
              "            '<a target=\"_blank\" href=https://colab.research.google.com/notebooks/data_table.ipynb>data table notebook</a>'\n",
              "            + ' to learn more about interactive tables.';\n",
              "          element.innerHTML = '';\n",
              "          dataTable['output_type'] = 'display_data';\n",
              "          await google.colab.output.renderOutput(dataTable, element);\n",
              "          const docLink = document.createElement('div');\n",
              "          docLink.innerHTML = docLinkHtml;\n",
              "          element.appendChild(docLink);\n",
              "        }\n",
              "      </script>\n",
              "    </div>\n",
              "  </div>\n",
              "  "
            ],
            "text/plain": [
              "   MonthlyCharges TotalCharges\n",
              "0           29.85        29.85\n",
              "1           56.95       1889.5\n",
              "2           53.85       108.15\n",
              "3           42.30      1840.75\n",
              "4           70.70       151.65"
            ]
          },
          "metadata": {},
          "execution_count": 7
        }
      ]
    },
    {
      "cell_type": "code",
      "source": [
        "#Converting data into Categorical\n",
        "def convert_cat(df):\n",
        "  for col in df.columns:\n",
        "      df[col] = df[col].astype('category')\n",
        "\n",
        "convert_cat(catdf)"
      ],
      "metadata": {
        "id": "r5-YfP2CGlR-"
      },
      "execution_count": 8,
      "outputs": []
    },
    {
      "cell_type": "code",
      "source": [
        "#Removing missing variables\n",
        "numdf['TotalCharges']=numdf['TotalCharges'].str.replace(' ','0').astype('float64')"
      ],
      "metadata": {
        "id": "lvB8yFqWGlT7"
      },
      "execution_count": 9,
      "outputs": []
    },
    {
      "cell_type": "code",
      "source": [
        "#Encoding Categoricl Variables\n",
        "from sklearn.preprocessing import LabelEncoder\n",
        "encoder= LabelEncoder()\n",
        "\n",
        "for col in catdf:\n",
        "  catdf[col] = encoder.fit_transform(catdf[col])"
      ],
      "metadata": {
        "id": "HcgKccMGGlVo"
      },
      "execution_count": 10,
      "outputs": []
    },
    {
      "cell_type": "code",
      "source": [
        "#Encoding Target Variable\n",
        "y= encoder.fit_transform(y)"
      ],
      "metadata": {
        "id": "zFpJ9m7yGlXb"
      },
      "execution_count": 11,
      "outputs": []
    },
    {
      "cell_type": "code",
      "source": [
        "#Scaling Numerical Variables\n",
        "from sklearn.preprocessing import StandardScaler\n",
        "scaler= StandardScaler()\n",
        "numdf =scaler.fit_transform(numdf)\n",
        "numdf =pd.DataFrame(numdf)"
      ],
      "metadata": {
        "id": "TCB9dSx1GwYc"
      },
      "execution_count": 12,
      "outputs": []
    },
    {
      "cell_type": "code",
      "source": [
        "#Chi Square Independency Testing  \n",
        "from sklearn.feature_selection import chi2\n",
        "from sklearn.feature_selection import SelectKBest\n",
        "k=len(catdf.columns)\n",
        "test = SelectKBest(score_func=chi2, k=k) \n",
        "fit = test.fit(catdf, y)\n",
        "fit.scores_\n",
        "\n",
        "imp = pd.Series(fit.scores_, index= catdf.columns)\n",
        "imp.nlargest(k).plot(kind=\"barh\")\n",
        "plt.show()"
      ],
      "metadata": {
        "colab": {
          "base_uri": "https://localhost:8080/",
          "height": 265
        },
        "id": "5jEgYueCGweT",
        "outputId": "11d32757-7df3-4d3d-ebe2-2e18024d108d"
      },
      "execution_count": 13,
      "outputs": [
        {
          "output_type": "display_data",
          "data": {
            "image/png": "[encoded data removed]",
            "text/plain": [
              "<Figure size 432x288 with 1 Axes>"
            ]
          },
          "metadata": {
            "needs_background": "light"
          }
        }
      ]
    },
    {
      "cell_type": "code",
      "source": [
        "#Chi Square Independency Testing after removing tenure and Contract to see the better picture\n",
        "cat_df =catdf.drop(['tenure', 'Contract'], axis=1)\n",
        "\n",
        "k=len(cat_df.columns)\n",
        "test = SelectKBest(score_func=chi2, k=k) \n",
        "fit = test.fit(cat_df, y)\n",
        "fit.scores_\n",
        "\n",
        "imp = pd.Series(fit.scores_, index= cat_df.columns)\n",
        "imp.nlargest(k).plot(kind=\"barh\")\n",
        "plt.show()"
      ],
      "metadata": {
        "id": "PPuxEOYUG3e7",
        "colab": {
          "base_uri": "https://localhost:8080/",
          "height": 265
        },
        "outputId": "c92d349b-88d8-4c32-aa18-409184ba8b85"
      },
      "execution_count": 14,
      "outputs": [
        {
          "output_type": "display_data",
          "data": {
            "image/png": "[encoded data removed]",
            "text/plain": [
              "<Figure size 432x288 with 1 Axes>"
            ]
          },
          "metadata": {
            "needs_background": "light"
          }
        }
      ]
    },
    {
      "cell_type": "code",
      "source": [
        "# It is better drop the columns that scores lower than Payment Method \n",
        "new_catdf = catdf.drop(['PhoneService', 'gender', 'StreamingTV', 'MultipleLines','InternetService'], axis=1)\n",
        "new_catdf.head()"
      ],
      "metadata": {
        "colab": {
          "base_uri": "https://localhost:8080/",
          "height": 206
        },
        "id": "W_rYbk_oG3gz",
        "outputId": "a1c9b9eb-b35f-41b4-9919-35964838aa0c"
      },
      "execution_count": 15,
      "outputs": [
        {
          "output_type": "execute_result",
          "data": {
            "text/html": [
              "\n",
              "  <div id=\"df-69d259c9-18e5-43d3-b38a-4fbd3e03cdff\">\n",
              "    <div class=\"colab-df-container\">\n",
              "      <div>\n",
              "<style scoped>\n",
              "    .dataframe tbody tr th:only-of-type {\n",
              "        vertical-align: middle;\n",
              "    }\n",
              "\n",
              "    .dataframe tbody tr th {\n",
              "        vertical-align: top;\n",
              "    }\n",
              "\n",
              "    .dataframe thead th {\n",
              "        text-align: right;\n",
              "    }\n",
              "</style>\n",
              "<table border=\"1\" class=\"dataframe\">\n",
              "  <thead>\n",
              "    <tr style=\"text-align: right;\">\n",
              "      <th></th>\n",
              "      <th>SeniorCitizen</th>\n",
              "      <th>Partner</th>\n",
              "      <th>Dependents</th>\n",
              "      <th>tenure</th>\n",
              "      <th>OnlineSecurity</th>\n",
              "      <th>OnlineBackup</th>\n",
              "      <th>DeviceProtection</th>\n",
              "      <th>TechSupport</th>\n",
              "      <th>StreamingMovies</th>\n",
              "      <th>Contract</th>\n",
              "      <th>PaperlessBilling</th>\n",
              "      <th>PaymentMethod</th>\n",
              "    </tr>\n",
              "  </thead>\n",
              "  <tbody>\n",
              "    <tr>\n",
              "      <th>0</th>\n",
              "      <td>0</td>\n",
              "      <td>1</td>\n",
              "      <td>0</td>\n",
              "      <td>1</td>\n",
              "      <td>0</td>\n",
              "      <td>2</td>\n",
              "      <td>0</td>\n",
              "      <td>0</td>\n",
              "      <td>0</td>\n",
              "      <td>0</td>\n",
              "      <td>1</td>\n",
              "      <td>2</td>\n",
              "    </tr>\n",
              "    <tr>\n",
              "      <th>1</th>\n",
              "      <td>0</td>\n",
              "      <td>0</td>\n",
              "      <td>0</td>\n",
              "      <td>34</td>\n",
              "      <td>2</td>\n",
              "      <td>0</td>\n",
              "      <td>2</td>\n",
              "      <td>0</td>\n",
              "      <td>0</td>\n",
              "      <td>1</td>\n",
              "      <td>0</td>\n",
              "      <td>3</td>\n",
              "    </tr>\n",
              "    <tr>\n",
              "      <th>2</th>\n",
              "      <td>0</td>\n",
              "      <td>0</td>\n",
              "      <td>0</td>\n",
              "      <td>2</td>\n",
              "      <td>2</td>\n",
              "      <td>2</td>\n",
              "      <td>0</td>\n",
              "      <td>0</td>\n",
              "      <td>0</td>\n",
              "      <td>0</td>\n",
              "      <td>1</td>\n",
              "      <td>3</td>\n",
              "    </tr>\n",
              "    <tr>\n",
              "      <th>3</th>\n",
              "      <td>0</td>\n",
              "      <td>0</td>\n",
              "      <td>0</td>\n",
              "      <td>45</td>\n",
              "      <td>2</td>\n",
              "      <td>0</td>\n",
              "      <td>2</td>\n",
              "      <td>2</td>\n",
              "      <td>0</td>\n",
              "      <td>1</td>\n",
              "      <td>0</td>\n",
              "      <td>0</td>\n",
              "    </tr>\n",
              "    <tr>\n",
              "      <th>4</th>\n",
              "      <td>0</td>\n",
              "      <td>0</td>\n",
              "      <td>0</td>\n",
              "      <td>2</td>\n",
              "      <td>0</td>\n",
              "      <td>0</td>\n",
              "      <td>0</td>\n",
              "      <td>0</td>\n",
              "      <td>0</td>\n",
              "      <td>0</td>\n",
              "      <td>1</td>\n",
              "      <td>2</td>\n",
              "    </tr>\n",
              "  </tbody>\n",
              "</table>\n",
              "</div>\n",
              "      <button class=\"colab-df-convert\" onclick=\"convertToInteractive('df-69d259c9-18e5-43d3-b38a-4fbd3e03cdff')\"\n",
              "              title=\"Convert this dataframe to an interactive table.\"\n",
              "              style=\"display:none;\">\n",
              "        \n",
              "  <svg xmlns=\"http://www.w3.org/2000/svg\" height=\"24px\"viewBox=\"0 0 24 24\"\n",
              "       width=\"24px\">\n",
              "    <path d=\"M0 0h24v24H0V0z\" fill=\"none\"/>\n",
              "    <path d=\"M18.56 5.44l.94 2.06.94-2.06 2.06-.94-2.06-.94-.94-2.06-.94 2.06-2.06.94zm-11 1L8.5 8.5l.94-2.06 2.06-.94-2.06-.94L8.5 2.5l-.94 2.06-2.06.94zm10 10l.94 2.06.94-2.06 2.06-.94-2.06-.94-.94-2.06-.94 2.06-2.06.94z\"/><path d=\"M17.41 7.96l-1.37-1.37c-.4-.4-.92-.59-1.43-.59-.52 0-1.04.2-1.43.59L10.3 9.45l-7.72 7.72c-.78.78-.78 2.05 0 2.83L4 21.41c.39.39.9.59 1.41.59.51 0 1.02-.2 1.41-.59l7.78-7.78 2.81-2.81c.8-.78.8-2.07 0-2.86zM5.41 20L4 18.59l7.72-7.72 1.47 1.35L5.41 20z\"/>\n",
              "  </svg>\n",
              "      </button>\n",
              "      \n",
              "  <style>\n",
              "    .colab-df-container {\n",
              "      display:flex;\n",
              "      flex-wrap:wrap;\n",
              "      gap: 12px;\n",
              "    }\n",
              "\n",
              "    .colab-df-convert {\n",
              "      background-color: #E8F0FE;\n",
              "      border: none;\n",
              "      border-radius: 50%;\n",
              "      cursor: pointer;\n",
              "      display: none;\n",
              "      fill: #1967D2;\n",
              "      height: 32px;\n",
              "      padding: 0 0 0 0;\n",
              "      width: 32px;\n",
              "    }\n",
              "\n",
              "    .colab-df-convert:hover {\n",
              "      background-color: #E2EBFA;\n",
              "      box-shadow: 0px 1px 2px rgba(60, 64, 67, 0.3), 0px 1px 3px 1px rgba(60, 64, 67, 0.15);\n",
              "      fill: #174EA6;\n",
              "    }\n",
              "\n",
              "    [theme=dark] .colab-df-convert {\n",
              "      background-color: #3B4455;\n",
              "      fill: #D2E3FC;\n",
              "    }\n",
              "\n",
              "    [theme=dark] .colab-df-convert:hover {\n",
              "      background-color: #434B5C;\n",
              "      box-shadow: 0px 1px 3px 1px rgba(0, 0, 0, 0.15);\n",
              "      filter: drop-shadow(0px 1px 2px rgba(0, 0, 0, 0.3));\n",
              "      fill: #FFFFFF;\n",
              "    }\n",
              "  </style>\n",
              "\n",
              "      <script>\n",
              "        const buttonEl =\n",
              "          document.querySelector('#df-69d259c9-18e5-43d3-b38a-4fbd3e03cdff button.colab-df-convert');\n",
              "        buttonEl.style.display =\n",
              "          google.colab.kernel.accessAllowed ? 'block' : 'none';\n",
              "\n",
              "        async function convertToInteractive(key) {\n",
              "          const element = document.querySelector('#df-69d259c9-18e5-43d3-b38a-4fbd3e03cdff');\n",
              "          const dataTable =\n",
              "            await google.colab.kernel.invokeFunction('convertToInteractive',\n",
              "                                                     [key], {});\n",
              "          if (!dataTable) return;\n",
              "\n",
              "          const docLinkHtml = 'Like what you see? Visit the ' +\n",
              "            '<a target=\"_blank\" href=https://colab.research.google.com/notebooks/data_table.ipynb>data table notebook</a>'\n",
              "            + ' to learn more about interactive tables.';\n",
              "          element.innerHTML = '';\n",
              "          dataTable['output_type'] = 'display_data';\n",
              "          await google.colab.output.renderOutput(dataTable, element);\n",
              "          const docLink = document.createElement('div');\n",
              "          docLink.innerHTML = docLinkHtml;\n",
              "          element.appendChild(docLink);\n",
              "        }\n",
              "      </script>\n",
              "    </div>\n",
              "  </div>\n",
              "  "
            ],
            "text/plain": [
              "   SeniorCitizen  Partner  ...  PaperlessBilling  PaymentMethod\n",
              "0              0        1  ...                 1              2\n",
              "1              0        0  ...                 0              3\n",
              "2              0        0  ...                 1              3\n",
              "3              0        0  ...                 0              0\n",
              "4              0        0  ...                 1              2\n",
              "\n",
              "[5 rows x 12 columns]"
            ]
          },
          "metadata": {},
          "execution_count": 15
        }
      ]
    },
    {
      "cell_type": "code",
      "source": [
        "new_catdf.nunique()"
      ],
      "metadata": {
        "colab": {
          "base_uri": "https://localhost:8080/"
        },
        "id": "lMHo5v6qa425",
        "outputId": "93dd1538-2b76-4dfb-e807-0f80f02fdeba"
      },
      "execution_count": 16,
      "outputs": [
        {
          "output_type": "execute_result",
          "data": {
            "text/plain": [
              "SeniorCitizen        2\n",
              "Partner              2\n",
              "Dependents           2\n",
              "tenure              73\n",
              "OnlineSecurity       3\n",
              "OnlineBackup         3\n",
              "DeviceProtection     3\n",
              "TechSupport          3\n",
              "StreamingMovies      3\n",
              "Contract             3\n",
              "PaperlessBilling     2\n",
              "PaymentMethod        4\n",
              "dtype: int64"
            ]
          },
          "metadata": {},
          "execution_count": 16
        }
      ]
    },
    {
      "cell_type": "code",
      "source": [
        "#One hot encoding for categorical variables\n",
        "ndf = pd.get_dummies(new_catdf, columns=['SeniorCitizen', 'Partner','Dependents', 'OnlineSecurity', 'OnlineBackup', 'DeviceProtection', 'TechSupport','StreamingMovies','Contract', 'PaperlessBilling','PaymentMethod'], drop_first = True)\n",
        "\n",
        "ndf.head()"
      ],
      "metadata": {
        "colab": {
          "base_uri": "https://localhost:8080/",
          "height": 270
        },
        "id": "WShZxvbupPhs",
        "outputId": "b1f9f9ab-d3f8-48f3-a9e9-d2c79cd12d78"
      },
      "execution_count": 17,
      "outputs": [
        {
          "output_type": "execute_result",
          "data": {
            "text/html": [
              "\n",
              "  <div id=\"df-c5a03161-e687-480a-818a-a39a6dc7611f\">\n",
              "    <div class=\"colab-df-container\">\n",
              "      <div>\n",
              "<style scoped>\n",
              "    .dataframe tbody tr th:only-of-type {\n",
              "        vertical-align: middle;\n",
              "    }\n",
              "\n",
              "    .dataframe tbody tr th {\n",
              "        vertical-align: top;\n",
              "    }\n",
              "\n",
              "    .dataframe thead th {\n",
              "        text-align: right;\n",
              "    }\n",
              "</style>\n",
              "<table border=\"1\" class=\"dataframe\">\n",
              "  <thead>\n",
              "    <tr style=\"text-align: right;\">\n",
              "      <th></th>\n",
              "      <th>tenure</th>\n",
              "      <th>SeniorCitizen_1</th>\n",
              "      <th>Partner_1</th>\n",
              "      <th>Dependents_1</th>\n",
              "      <th>OnlineSecurity_1</th>\n",
              "      <th>OnlineSecurity_2</th>\n",
              "      <th>OnlineBackup_1</th>\n",
              "      <th>OnlineBackup_2</th>\n",
              "      <th>DeviceProtection_1</th>\n",
              "      <th>DeviceProtection_2</th>\n",
              "      <th>TechSupport_1</th>\n",
              "      <th>TechSupport_2</th>\n",
              "      <th>StreamingMovies_1</th>\n",
              "      <th>StreamingMovies_2</th>\n",
              "      <th>Contract_1</th>\n",
              "      <th>Contract_2</th>\n",
              "      <th>PaperlessBilling_1</th>\n",
              "      <th>PaymentMethod_1</th>\n",
              "      <th>PaymentMethod_2</th>\n",
              "      <th>PaymentMethod_3</th>\n",
              "    </tr>\n",
              "  </thead>\n",
              "  <tbody>\n",
              "    <tr>\n",
              "      <th>0</th>\n",
              "      <td>1</td>\n",
              "      <td>0</td>\n",
              "      <td>1</td>\n",
              "      <td>0</td>\n",
              "      <td>0</td>\n",
              "      <td>0</td>\n",
              "      <td>0</td>\n",
              "      <td>1</td>\n",
              "      <td>0</td>\n",
              "      <td>0</td>\n",
              "      <td>0</td>\n",
              "      <td>0</td>\n",
              "      <td>0</td>\n",
              "      <td>0</td>\n",
              "      <td>0</td>\n",
              "      <td>0</td>\n",
              "      <td>1</td>\n",
              "      <td>0</td>\n",
              "      <td>1</td>\n",
              "      <td>0</td>\n",
              "    </tr>\n",
              "    <tr>\n",
              "      <th>1</th>\n",
              "      <td>34</td>\n",
              "      <td>0</td>\n",
              "      <td>0</td>\n",
              "      <td>0</td>\n",
              "      <td>0</td>\n",
              "      <td>1</td>\n",
              "      <td>0</td>\n",
              "      <td>0</td>\n",
              "      <td>0</td>\n",
              "      <td>1</td>\n",
              "      <td>0</td>\n",
              "      <td>0</td>\n",
              "      <td>0</td>\n",
              "      <td>0</td>\n",
              "      <td>1</td>\n",
              "      <td>0</td>\n",
              "      <td>0</td>\n",
              "      <td>0</td>\n",
              "      <td>0</td>\n",
              "      <td>1</td>\n",
              "    </tr>\n",
              "    <tr>\n",
              "      <th>2</th>\n",
              "      <td>2</td>\n",
              "      <td>0</td>\n",
              "      <td>0</td>\n",
              "      <td>0</td>\n",
              "      <td>0</td>\n",
              "      <td>1</td>\n",
              "      <td>0</td>\n",
              "      <td>1</td>\n",
              "      <td>0</td>\n",
              "      <td>0</td>\n",
              "      <td>0</td>\n",
              "      <td>0</td>\n",
              "      <td>0</td>\n",
              "      <td>0</td>\n",
              "      <td>0</td>\n",
              "      <td>0</td>\n",
              "      <td>1</td>\n",
              "      <td>0</td>\n",
              "      <td>0</td>\n",
              "      <td>1</td>\n",
              "    </tr>\n",
              "    <tr>\n",
              "      <th>3</th>\n",
              "      <td>45</td>\n",
              "      <td>0</td>\n",
              "      <td>0</td>\n",
              "      <td>0</td>\n",
              "      <td>0</td>\n",
              "      <td>1</td>\n",
              "      <td>0</td>\n",
              "      <td>0</td>\n",
              "      <td>0</td>\n",
              "      <td>1</td>\n",
              "      <td>0</td>\n",
              "      <td>1</td>\n",
              "      <td>0</td>\n",
              "      <td>0</td>\n",
              "      <td>1</td>\n",
              "      <td>0</td>\n",
              "      <td>0</td>\n",
              "      <td>0</td>\n",
              "      <td>0</td>\n",
              "      <td>0</td>\n",
              "    </tr>\n",
              "    <tr>\n",
              "      <th>4</th>\n",
              "      <td>2</td>\n",
              "      <td>0</td>\n",
              "      <td>0</td>\n",
              "      <td>0</td>\n",
              "      <td>0</td>\n",
              "      <td>0</td>\n",
              "      <td>0</td>\n",
              "      <td>0</td>\n",
              "      <td>0</td>\n",
              "      <td>0</td>\n",
              "      <td>0</td>\n",
              "      <td>0</td>\n",
              "      <td>0</td>\n",
              "      <td>0</td>\n",
              "      <td>0</td>\n",
              "      <td>0</td>\n",
              "      <td>1</td>\n",
              "      <td>0</td>\n",
              "      <td>1</td>\n",
              "      <td>0</td>\n",
              "    </tr>\n",
              "  </tbody>\n",
              "</table>\n",
              "</div>\n",
              "      <button class=\"colab-df-convert\" onclick=\"convertToInteractive('df-c5a03161-e687-480a-818a-a39a6dc7611f')\"\n",
              "              title=\"Convert this dataframe to an interactive table.\"\n",
              "              style=\"display:none;\">\n",
              "        \n",
              "  <svg xmlns=\"http://www.w3.org/2000/svg\" height=\"24px\"viewBox=\"0 0 24 24\"\n",
              "       width=\"24px\">\n",
              "    <path d=\"M0 0h24v24H0V0z\" fill=\"none\"/>\n",
              "    <path d=\"M18.56 5.44l.94 2.06.94-2.06 2.06-.94-2.06-.94-.94-2.06-.94 2.06-2.06.94zm-11 1L8.5 8.5l.94-2.06 2.06-.94-2.06-.94L8.5 2.5l-.94 2.06-2.06.94zm10 10l.94 2.06.94-2.06 2.06-.94-2.06-.94-.94-2.06-.94 2.06-2.06.94z\"/><path d=\"M17.41 7.96l-1.37-1.37c-.4-.4-.92-.59-1.43-.59-.52 0-1.04.2-1.43.59L10.3 9.45l-7.72 7.72c-.78.78-.78 2.05 0 2.83L4 21.41c.39.39.9.59 1.41.59.51 0 1.02-.2 1.41-.59l7.78-7.78 2.81-2.81c.8-.78.8-2.07 0-2.86zM5.41 20L4 18.59l7.72-7.72 1.47 1.35L5.41 20z\"/>\n",
              "  </svg>\n",
              "      </button>\n",
              "      \n",
              "  <style>\n",
              "    .colab-df-container {\n",
              "      display:flex;\n",
              "      flex-wrap:wrap;\n",
              "      gap: 12px;\n",
              "    }\n",
              "\n",
              "    .colab-df-convert {\n",
              "      background-color: #E8F0FE;\n",
              "      border: none;\n",
              "      border-radius: 50%;\n",
              "      cursor: pointer;\n",
              "      display: none;\n",
              "      fill: #1967D2;\n",
              "      height: 32px;\n",
              "      padding: 0 0 0 0;\n",
              "      width: 32px;\n",
              "    }\n",
              "\n",
              "    .colab-df-convert:hover {\n",
              "      background-color: #E2EBFA;\n",
              "      box-shadow: 0px 1px 2px rgba(60, 64, 67, 0.3), 0px 1px 3px 1px rgba(60, 64, 67, 0.15);\n",
              "      fill: #174EA6;\n",
              "    }\n",
              "\n",
              "    [theme=dark] .colab-df-convert {\n",
              "      background-color: #3B4455;\n",
              "      fill: #D2E3FC;\n",
              "    }\n",
              "\n",
              "    [theme=dark] .colab-df-convert:hover {\n",
              "      background-color: #434B5C;\n",
              "      box-shadow: 0px 1px 3px 1px rgba(0, 0, 0, 0.15);\n",
              "      filter: drop-shadow(0px 1px 2px rgba(0, 0, 0, 0.3));\n",
              "      fill: #FFFFFF;\n",
              "    }\n",
              "  </style>\n",
              "\n",
              "      <script>\n",
              "        const buttonEl =\n",
              "          document.querySelector('#df-c5a03161-e687-480a-818a-a39a6dc7611f button.colab-df-convert');\n",
              "        buttonEl.style.display =\n",
              "          google.colab.kernel.accessAllowed ? 'block' : 'none';\n",
              "\n",
              "        async function convertToInteractive(key) {\n",
              "          const element = document.querySelector('#df-c5a03161-e687-480a-818a-a39a6dc7611f');\n",
              "          const dataTable =\n",
              "            await google.colab.kernel.invokeFunction('convertToInteractive',\n",
              "                                                     [key], {});\n",
              "          if (!dataTable) return;\n",
              "\n",
              "          const docLinkHtml = 'Like what you see? Visit the ' +\n",
              "            '<a target=\"_blank\" href=https://colab.research.google.com/notebooks/data_table.ipynb>data table notebook</a>'\n",
              "            + ' to learn more about interactive tables.';\n",
              "          element.innerHTML = '';\n",
              "          dataTable['output_type'] = 'display_data';\n",
              "          await google.colab.output.renderOutput(dataTable, element);\n",
              "          const docLink = document.createElement('div');\n",
              "          docLink.innerHTML = docLinkHtml;\n",
              "          element.appendChild(docLink);\n",
              "        }\n",
              "      </script>\n",
              "    </div>\n",
              "  </div>\n",
              "  "
            ],
            "text/plain": [
              "   tenure  SeniorCitizen_1  ...  PaymentMethod_2  PaymentMethod_3\n",
              "0       1                0  ...                1                0\n",
              "1      34                0  ...                0                1\n",
              "2       2                0  ...                0                1\n",
              "3      45                0  ...                0                0\n",
              "4       2                0  ...                1                0\n",
              "\n",
              "[5 rows x 20 columns]"
            ]
          },
          "metadata": {},
          "execution_count": 17
        }
      ]
    },
    {
      "cell_type": "code",
      "source": [
        "#Generating X Data set after Feature Reduction\n",
        "X = pd.concat([ndf,numdf], axis=1 )\n",
        "X.head()"
      ],
      "metadata": {
        "colab": {
          "base_uri": "https://localhost:8080/",
          "height": 270
        },
        "id": "FMoKv28rdldK",
        "outputId": "bac023fd-7a8d-4435-a3cd-326e1d445b95"
      },
      "execution_count": 18,
      "outputs": [
        {
          "output_type": "execute_result",
          "data": {
            "text/html": [
              "\n",
              "  <div id=\"df-9ef9f329-ca5c-4419-b788-e1eddd3b961e\">\n",
              "    <div class=\"colab-df-container\">\n",
              "      <div>\n",
              "<style scoped>\n",
              "    .dataframe tbody tr th:only-of-type {\n",
              "        vertical-align: middle;\n",
              "    }\n",
              "\n",
              "    .dataframe tbody tr th {\n",
              "        vertical-align: top;\n",
              "    }\n",
              "\n",
              "    .dataframe thead th {\n",
              "        text-align: right;\n",
              "    }\n",
              "</style>\n",
              "<table border=\"1\" class=\"dataframe\">\n",
              "  <thead>\n",
              "    <tr style=\"text-align: right;\">\n",
              "      <th></th>\n",
              "      <th>tenure</th>\n",
              "      <th>SeniorCitizen_1</th>\n",
              "      <th>Partner_1</th>\n",
              "      <th>Dependents_1</th>\n",
              "      <th>OnlineSecurity_1</th>\n",
              "      <th>OnlineSecurity_2</th>\n",
              "      <th>OnlineBackup_1</th>\n",
              "      <th>OnlineBackup_2</th>\n",
              "      <th>DeviceProtection_1</th>\n",
              "      <th>DeviceProtection_2</th>\n",
              "      <th>TechSupport_1</th>\n",
              "      <th>TechSupport_2</th>\n",
              "      <th>StreamingMovies_1</th>\n",
              "      <th>StreamingMovies_2</th>\n",
              "      <th>Contract_1</th>\n",
              "      <th>Contract_2</th>\n",
              "      <th>PaperlessBilling_1</th>\n",
              "      <th>PaymentMethod_1</th>\n",
              "      <th>PaymentMethod_2</th>\n",
              "      <th>PaymentMethod_3</th>\n",
              "      <th>0</th>\n",
              "      <th>1</th>\n",
              "    </tr>\n",
              "  </thead>\n",
              "  <tbody>\n",
              "    <tr>\n",
              "      <th>0</th>\n",
              "      <td>1</td>\n",
              "      <td>0</td>\n",
              "      <td>1</td>\n",
              "      <td>0</td>\n",
              "      <td>0</td>\n",
              "      <td>0</td>\n",
              "      <td>0</td>\n",
              "      <td>1</td>\n",
              "      <td>0</td>\n",
              "      <td>0</td>\n",
              "      <td>0</td>\n",
              "      <td>0</td>\n",
              "      <td>0</td>\n",
              "      <td>0</td>\n",
              "      <td>0</td>\n",
              "      <td>0</td>\n",
              "      <td>1</td>\n",
              "      <td>0</td>\n",
              "      <td>1</td>\n",
              "      <td>0</td>\n",
              "      <td>-1.160323</td>\n",
              "      <td>-0.992611</td>\n",
              "    </tr>\n",
              "    <tr>\n",
              "      <th>1</th>\n",
              "      <td>34</td>\n",
              "      <td>0</td>\n",
              "      <td>0</td>\n",
              "      <td>0</td>\n",
              "      <td>0</td>\n",
              "      <td>1</td>\n",
              "      <td>0</td>\n",
              "      <td>0</td>\n",
              "      <td>0</td>\n",
              "      <td>1</td>\n",
              "      <td>0</td>\n",
              "      <td>0</td>\n",
              "      <td>0</td>\n",
              "      <td>0</td>\n",
              "      <td>1</td>\n",
              "      <td>0</td>\n",
              "      <td>0</td>\n",
              "      <td>0</td>\n",
              "      <td>0</td>\n",
              "      <td>1</td>\n",
              "      <td>-0.259629</td>\n",
              "      <td>-0.172165</td>\n",
              "    </tr>\n",
              "    <tr>\n",
              "      <th>2</th>\n",
              "      <td>2</td>\n",
              "      <td>0</td>\n",
              "      <td>0</td>\n",
              "      <td>0</td>\n",
              "      <td>0</td>\n",
              "      <td>1</td>\n",
              "      <td>0</td>\n",
              "      <td>1</td>\n",
              "      <td>0</td>\n",
              "      <td>0</td>\n",
              "      <td>0</td>\n",
              "      <td>0</td>\n",
              "      <td>0</td>\n",
              "      <td>0</td>\n",
              "      <td>0</td>\n",
              "      <td>0</td>\n",
              "      <td>1</td>\n",
              "      <td>0</td>\n",
              "      <td>0</td>\n",
              "      <td>1</td>\n",
              "      <td>-0.362660</td>\n",
              "      <td>-0.958066</td>\n",
              "    </tr>\n",
              "    <tr>\n",
              "      <th>3</th>\n",
              "      <td>45</td>\n",
              "      <td>0</td>\n",
              "      <td>0</td>\n",
              "      <td>0</td>\n",
              "      <td>0</td>\n",
              "      <td>1</td>\n",
              "      <td>0</td>\n",
              "      <td>0</td>\n",
              "      <td>0</td>\n",
              "      <td>1</td>\n",
              "      <td>0</td>\n",
              "      <td>1</td>\n",
              "      <td>0</td>\n",
              "      <td>0</td>\n",
              "      <td>1</td>\n",
              "      <td>0</td>\n",
              "      <td>0</td>\n",
              "      <td>0</td>\n",
              "      <td>0</td>\n",
              "      <td>0</td>\n",
              "      <td>-0.746535</td>\n",
              "      <td>-0.193672</td>\n",
              "    </tr>\n",
              "    <tr>\n",
              "      <th>4</th>\n",
              "      <td>2</td>\n",
              "      <td>0</td>\n",
              "      <td>0</td>\n",
              "      <td>0</td>\n",
              "      <td>0</td>\n",
              "      <td>0</td>\n",
              "      <td>0</td>\n",
              "      <td>0</td>\n",
              "      <td>0</td>\n",
              "      <td>0</td>\n",
              "      <td>0</td>\n",
              "      <td>0</td>\n",
              "      <td>0</td>\n",
              "      <td>0</td>\n",
              "      <td>0</td>\n",
              "      <td>0</td>\n",
              "      <td>1</td>\n",
              "      <td>0</td>\n",
              "      <td>1</td>\n",
              "      <td>0</td>\n",
              "      <td>0.197365</td>\n",
              "      <td>-0.938874</td>\n",
              "    </tr>\n",
              "  </tbody>\n",
              "</table>\n",
              "</div>\n",
              "      <button class=\"colab-df-convert\" onclick=\"convertToInteractive('df-9ef9f329-ca5c-4419-b788-e1eddd3b961e')\"\n",
              "              title=\"Convert this dataframe to an interactive table.\"\n",
              "              style=\"display:none;\">\n",
              "        \n",
              "  <svg xmlns=\"http://www.w3.org/2000/svg\" height=\"24px\"viewBox=\"0 0 24 24\"\n",
              "       width=\"24px\">\n",
              "    <path d=\"M0 0h24v24H0V0z\" fill=\"none\"/>\n",
              "    <path d=\"M18.56 5.44l.94 2.06.94-2.06 2.06-.94-2.06-.94-.94-2.06-.94 2.06-2.06.94zm-11 1L8.5 8.5l.94-2.06 2.06-.94-2.06-.94L8.5 2.5l-.94 2.06-2.06.94zm10 10l.94 2.06.94-2.06 2.06-.94-2.06-.94-.94-2.06-.94 2.06-2.06.94z\"/><path d=\"M17.41 7.96l-1.37-1.37c-.4-.4-.92-.59-1.43-.59-.52 0-1.04.2-1.43.59L10.3 9.45l-7.72 7.72c-.78.78-.78 2.05 0 2.83L4 21.41c.39.39.9.59 1.41.59.51 0 1.02-.2 1.41-.59l7.78-7.78 2.81-2.81c.8-.78.8-2.07 0-2.86zM5.41 20L4 18.59l7.72-7.72 1.47 1.35L5.41 20z\"/>\n",
              "  </svg>\n",
              "      </button>\n",
              "      \n",
              "  <style>\n",
              "    .colab-df-container {\n",
              "      display:flex;\n",
              "      flex-wrap:wrap;\n",
              "      gap: 12px;\n",
              "    }\n",
              "\n",
              "    .colab-df-convert {\n",
              "      background-color: #E8F0FE;\n",
              "      border: none;\n",
              "      border-radius: 50%;\n",
              "      cursor: pointer;\n",
              "      display: none;\n",
              "      fill: #1967D2;\n",
              "      height: 32px;\n",
              "      padding: 0 0 0 0;\n",
              "      width: 32px;\n",
              "    }\n",
              "\n",
              "    .colab-df-convert:hover {\n",
              "      background-color: #E2EBFA;\n",
              "      box-shadow: 0px 1px 2px rgba(60, 64, 67, 0.3), 0px 1px 3px 1px rgba(60, 64, 67, 0.15);\n",
              "      fill: #174EA6;\n",
              "    }\n",
              "\n",
              "    [theme=dark] .colab-df-convert {\n",
              "      background-color: #3B4455;\n",
              "      fill: #D2E3FC;\n",
              "    }\n",
              "\n",
              "    [theme=dark] .colab-df-convert:hover {\n",
              "      background-color: #434B5C;\n",
              "      box-shadow: 0px 1px 3px 1px rgba(0, 0, 0, 0.15);\n",
              "      filter: drop-shadow(0px 1px 2px rgba(0, 0, 0, 0.3));\n",
              "      fill: #FFFFFF;\n",
              "    }\n",
              "  </style>\n",
              "\n",
              "      <script>\n",
              "        const buttonEl =\n",
              "          document.querySelector('#df-9ef9f329-ca5c-4419-b788-e1eddd3b961e button.colab-df-convert');\n",
              "        buttonEl.style.display =\n",
              "          google.colab.kernel.accessAllowed ? 'block' : 'none';\n",
              "\n",
              "        async function convertToInteractive(key) {\n",
              "          const element = document.querySelector('#df-9ef9f329-ca5c-4419-b788-e1eddd3b961e');\n",
              "          const dataTable =\n",
              "            await google.colab.kernel.invokeFunction('convertToInteractive',\n",
              "                                                     [key], {});\n",
              "          if (!dataTable) return;\n",
              "\n",
              "          const docLinkHtml = 'Like what you see? Visit the ' +\n",
              "            '<a target=\"_blank\" href=https://colab.research.google.com/notebooks/data_table.ipynb>data table notebook</a>'\n",
              "            + ' to learn more about interactive tables.';\n",
              "          element.innerHTML = '';\n",
              "          dataTable['output_type'] = 'display_data';\n",
              "          await google.colab.output.renderOutput(dataTable, element);\n",
              "          const docLink = document.createElement('div');\n",
              "          docLink.innerHTML = docLinkHtml;\n",
              "          element.appendChild(docLink);\n",
              "        }\n",
              "      </script>\n",
              "    </div>\n",
              "  </div>\n",
              "  "
            ],
            "text/plain": [
              "   tenure  SeniorCitizen_1  Partner_1  ...  PaymentMethod_3         0         1\n",
              "0       1                0          1  ...                0 -1.160323 -0.992611\n",
              "1      34                0          0  ...                1 -0.259629 -0.172165\n",
              "2       2                0          0  ...                1 -0.362660 -0.958066\n",
              "3      45                0          0  ...                0 -0.746535 -0.193672\n",
              "4       2                0          0  ...                0  0.197365 -0.938874\n",
              "\n",
              "[5 rows x 22 columns]"
            ]
          },
          "metadata": {},
          "execution_count": 18
        }
      ]
    },
    {
      "cell_type": "code",
      "source": [
        "col_names=[]\n",
        "for col in ndf.columns:\n",
        "  col_names.append(col)\n",
        "print(col_names)"
      ],
      "metadata": {
        "colab": {
          "base_uri": "https://localhost:8080/"
        },
        "id": "fCg4IxgjBiax",
        "outputId": "7e140eff-00e8-447e-e6f1-5418c95cbc09"
      },
      "execution_count": 19,
      "outputs": [
        {
          "output_type": "stream",
          "name": "stdout",
          "text": [
            "['tenure', 'SeniorCitizen_1', 'Partner_1', 'Dependents_1', 'OnlineSecurity_1', 'OnlineSecurity_2', 'OnlineBackup_1', 'OnlineBackup_2', 'DeviceProtection_1', 'DeviceProtection_2', 'TechSupport_1', 'TechSupport_2', 'StreamingMovies_1', 'StreamingMovies_2', 'Contract_1', 'Contract_2', 'PaperlessBilling_1', 'PaymentMethod_1', 'PaymentMethod_2', 'PaymentMethod_3']\n"
          ]
        }
      ]
    },
    {
      "cell_type": "code",
      "source": [
        "#Data Set Split\n",
        "X_train, X_test, y_train, y_test = train_test_split(X, y, stratify=y, random_state=1)"
      ],
      "metadata": {
        "id": "Fjkz-6TCG3mb"
      },
      "execution_count": 20,
      "outputs": []
    },
    {
      "cell_type": "code",
      "source": [
        "#copy of data partitinos for SMOTE texchniques"
      ],
      "metadata": {
        "id": "vT-KA8mp6lbb"
      },
      "execution_count": 21,
      "outputs": []
    },
    {
      "cell_type": "code",
      "source": [
        "X1_train =X_train.copy(); X1_test =X_test.copy(); y1_train =y_train.copy(); y1_test =y_test.copy()\n",
        "X2_train =X_train.copy(); X2_test =X_test.copy(); y2_train =y_train.copy(); y2_test =y_test.copy() \n",
        "X3_train =X_train.copy(); X3_test =X_test.copy(); y3_train =y_train.copy(); y3_test =y_test.copy() \n",
        "X4_train =X_train.copy(); X4_test =X_test.copy(); y4_train =y_train.copy(); y4_test =y_test.copy() \n",
        "X5_train =X_train.copy(); X5_test =X_test.copy(); y5_train =y_train.copy(); y5_test =y_test.copy() "
      ],
      "metadata": {
        "id": "TMi4RREe6ldx"
      },
      "execution_count": 38,
      "outputs": []
    },
    {
      "cell_type": "code",
      "source": [
        ""
      ],
      "metadata": {
        "id": "TaSG3dPN6lib"
      },
      "execution_count": 55,
      "outputs": []
    },
    {
      "cell_type": "code",
      "source": [
        "#MODELS"
      ],
      "metadata": {
        "id": "FpfiB2foObe6"
      },
      "execution_count": 22,
      "outputs": []
    },
    {
      "cell_type": "code",
      "source": [
        "#Dummy Classifieer\n",
        "from sklearn.dummy import DummyClassifier\n",
        "\n",
        "# define the model\n",
        "model_Dummy = DummyClassifier(strategy='most_frequent')\n",
        "model_Dummy.fit(X_train, y_train)\n",
        "Dummy_pred= model_Dummy.predict(X_test)\n",
        "Dummy_score= round(model_Dummy.score(X, y),3)\n",
        "Dummy_recall=recall_score(y_test,Dummy_pred)\n",
        "Dummy_prec=precision_score(y_test,Dummy_pred)\n",
        "Dummy_ROC_AUC=roc_auc_score(y_test,Dummy_pred)\n",
        "Dummy_F1= 0\n",
        "print(f'Dummy Score: {Dummy_score}')"
      ],
      "metadata": {
        "colab": {
          "base_uri": "https://localhost:8080/"
        },
        "id": "Dgm5NoCvObhh",
        "outputId": "0eaab889-b659-482a-ad71-eb7f3e04e8c7"
      },
      "execution_count": 23,
      "outputs": [
        {
          "output_type": "stream",
          "name": "stdout",
          "text": [
            "Dummy Score: 0.735\n"
          ]
        }
      ]
    },
    {
      "cell_type": "code",
      "source": [
        "#Logistic Regression (LOG)\n",
        "from sklearn.linear_model import LogisticRegression\n",
        "model_LOG= LogisticRegression()\n",
        "model_LOG.fit(X_train, y_train)\n",
        "LOG_pred= model_LOG.predict(X_test)\n",
        "LOG_score= round(model_LOG.score(X, y),3)\n",
        "print(f'Accuracy Score: {LOG_score}')\n",
        "\n",
        "LOG_recall=round(recall_score(y_test,LOG_pred),3)\n",
        "print(f'Recall Score: {LOG_recall}')\n",
        "\n",
        "LOG_prec=round(precision_score(y_test,LOG_pred),3)\n",
        "print(f'Precision Score: {LOG_prec}')\n",
        "\n",
        "LOG_ROC_AUC=round(roc_auc_score(y_test,LOG_pred),3)\n",
        "print(f'ROC_AUC Score: {LOG_ROC_AUC}')\n",
        "\n",
        "LOG_F1= round(2 /((1/LOG_recall)+(1/LOG_prec)),3)\n",
        "print(f'Precision Score: {LOG_F1}')"
      ],
      "metadata": {
        "colab": {
          "base_uri": "https://localhost:8080/"
        },
        "id": "ozsCRSYNy3rc",
        "outputId": "746f5299-f2fd-4cfc-b928-b5d4a77fc065"
      },
      "execution_count": 24,
      "outputs": [
        {
          "output_type": "stream",
          "name": "stdout",
          "text": [
            "Accuracy Score: 0.803\n",
            "Recall Score: 0.567\n",
            "Precision Score: 0.656\n",
            "ROC_AUC Score: 0.73\n",
            "Precision Score: 0.608\n"
          ]
        }
      ]
    },
    {
      "cell_type": "code",
      "source": [
        "#Decision Tree (Tree)\n",
        "from sklearn import tree\n",
        "model_Tree= tree.DecisionTreeClassifier()\n",
        "model_Tree.fit(X_train, y_train)\n",
        "Tree_pred= model_Tree.predict(X_test)\n",
        "Tree_score= round(model_Tree.score(X, y),3)\n",
        "print(f'Accuracy Score: {Tree_score}')\n",
        "\n",
        "Tree_recall=round(recall_score(y_test,Tree_pred),3)\n",
        "print(f'Recall Score: {Tree_recall}')\n",
        "\n",
        "Tree_prec=round(precision_score(y_test,Tree_pred),3)\n",
        "print(f'Precision Score: {Tree_prec}')\n",
        "\n",
        "Tree_ROC_AUC=round(roc_auc_score(y_test,Tree_pred),3)\n",
        "print(f'ROC_AUC Score: {Tree_ROC_AUC}')\n",
        "\n",
        "Tree_F1= round(2 /((1/Tree_recall)+(1/Tree_prec)),3)\n",
        "print(f'F1 Score: {Tree_F1}')"
      ],
      "metadata": {
        "id": "af50qgKeObj5",
        "colab": {
          "base_uri": "https://localhost:8080/"
        },
        "outputId": "48d0975c-7b8b-47cd-845e-18901c340d16"
      },
      "execution_count": 25,
      "outputs": [
        {
          "output_type": "stream",
          "name": "stdout",
          "text": [
            "Accuracy Score: 0.928\n",
            "Recall Score: 0.465\n",
            "Precision Score: 0.476\n",
            "ROC_AUC Score: 0.64\n",
            "F1 Score: 0.47\n"
          ]
        }
      ]
    },
    {
      "cell_type": "code",
      "source": [
        "#Support Vector Machine (SVM)\n",
        "from sklearn import svm\n",
        "from sklearn.svm import SVC\n",
        "model_SVM= SVC(gamma='scale')\n",
        "\n",
        "model_SVM.fit(X_train, y_train)\n",
        "SVM_pred= model_SVM.predict(X_test)\n",
        "SVM_score= round(model_SVM.score(X, y),3)\n",
        "print(f'Accuracy Score: {SVM_score}')\n",
        "\n",
        "SVM_recall=round(recall_score(y_test,SVM_pred),3)\n",
        "print(f'Recall Score: {SVM_recall}')\n",
        "\n",
        "SVM_prec=round(precision_score(y_test,SVM_pred),3)\n",
        "print(f'Precision Score: {SVM_prec}')\n",
        "\n",
        "SVM_ROC_AUC=round(roc_auc_score(y_test,SVM_pred),3)\n",
        "print(f'ROC_AUC Score: {SVM_ROC_AUC}')\n",
        "\n",
        "SVM_F1= round(2 /((1/SVM_recall)+(1/SVM_prec)),3)\n",
        "print(f'Precision Score: {SVM_F1}')\n"
      ],
      "metadata": {
        "id": "959KBWnAObvD",
        "colab": {
          "base_uri": "https://localhost:8080/"
        },
        "outputId": "0c032edb-6419-43fe-8caf-e58ffeb4a371"
      },
      "execution_count": 26,
      "outputs": [
        {
          "output_type": "stream",
          "name": "stdout",
          "text": [
            "Accuracy Score: 0.79\n",
            "Recall Score: 0.42\n",
            "Precision Score: 0.66\n",
            "ROC_AUC Score: 0.671\n",
            "Precision Score: 0.513\n"
          ]
        }
      ]
    },
    {
      "cell_type": "code",
      "source": [
        "#Bagged Decision Trees (BAG)\n",
        "from sklearn.ensemble import BaggingClassifier\n",
        "model_BAG =BaggingClassifier(n_estimators=100)\n",
        "\n",
        "model_BAG.fit(X_train, y_train)\n",
        "BAG_pred= model_BAG.predict(X_test)\n",
        "BAG_score= round(model_BAG.score(X, y),3)\n",
        "print(f'Accuracy Score: {BAG_score}')\n",
        "\n",
        "BAG_recall=round(recall_score(y_test,BAG_pred),3)\n",
        "print(f'Recall Score: {BAG_recall}')\n",
        "\n",
        "BAG_prec=round(precision_score(y_test,BAG_pred),3)\n",
        "print(f'Precision Score: {BAG_prec}')\n",
        "\n",
        "BAG_ROC_AUC=round(roc_auc_score(y_test,BAG_pred),3)\n",
        "print(f'ROC_AUC Score: {BAG_ROC_AUC}')\n",
        "\n",
        "BAG_F1= round(2 /((1/BAG_recall)+(1/BAG_prec)),3)\n",
        "print(f'Precision Score: {BAG_F1}')"
      ],
      "metadata": {
        "id": "H06UG0zlObxZ",
        "colab": {
          "base_uri": "https://localhost:8080/"
        },
        "outputId": "5e05f077-3e82-4d11-ad03-414143c8d2e7"
      },
      "execution_count": 27,
      "outputs": [
        {
          "output_type": "stream",
          "name": "stdout",
          "text": [
            "Accuracy Score: 0.945\n",
            "Recall Score: 0.497\n",
            "Precision Score: 0.632\n",
            "ROC_AUC Score: 0.696\n",
            "Precision Score: 0.556\n"
          ]
        }
      ]
    },
    {
      "cell_type": "code",
      "source": [
        "#Random Forest (RF)\n",
        "from sklearn.ensemble import RandomForestClassifier\n",
        "model_RF = RandomForestClassifier()\n",
        "\n",
        "model_RF.fit(X_train, y_train)\n",
        "RF_pred= model_RF.predict(X_test)\n",
        "RF_score= round(model_RF.score(X, y),3)\n",
        "print(f'Accuracy Score: {RF_score}')\n",
        "\n",
        "RF_recall=round(recall_score(y_test,RF_pred),3)\n",
        "print(f'Recall Score: {RF_recall}')\n",
        "\n",
        "RF_prec=round(precision_score(y_test,RF_pred),3)\n",
        "print(f'Precision Score: {RF_prec}')\n",
        "\n",
        "RF_ROC_AUC=round(roc_auc_score(y_test,RF_pred),3)\n",
        "print(f'ROC_AUC Score: {RF_ROC_AUC}')\n",
        "\n",
        "RF_F1= round(2 /((1/RF_recall)+(1/RF_prec)),3)\n",
        "print(f'Precision Score: {RF_F1}')"
      ],
      "metadata": {
        "id": "SFjim10jSJU6",
        "colab": {
          "base_uri": "https://localhost:8080/"
        },
        "outputId": "8a0ceea4-7536-4cda-9ca5-29fecd8f61ff"
      },
      "execution_count": 28,
      "outputs": [
        {
          "output_type": "stream",
          "name": "stdout",
          "text": [
            "Accuracy Score: 0.944\n",
            "Recall Score: 0.482\n",
            "Precision Score: 0.622\n",
            "ROC_AUC Score: 0.688\n",
            "Precision Score: 0.543\n"
          ]
        }
      ]
    },
    {
      "cell_type": "code",
      "source": [
        "#Gradient Boosting Machine (GBM)\n",
        "from sklearn.ensemble import GradientBoostingClassifier\n",
        "model_GB =GradientBoostingClassifier(n_estimators=100)\n",
        "\n",
        "model_GB.fit(X_train, y_train)\n",
        "GB_pred= model_GB.predict(X_test)\n",
        "GB_score= round(model_GB.score(X, y),3)\n",
        "print(f'Accuracy Score: {GB_score}')\n",
        "\n",
        "GB_recall=round(recall_score(y_test,GB_pred),3)\n",
        "print(f'Recall Score: {GB_recall}')\n",
        "\n",
        "GB_prec=round(precision_score(y_test,GB_pred),3)\n",
        "print(f'Precision Score: {GB_prec}')\n",
        "\n",
        "GB_ROC_AUC=round(roc_auc_score(y_test,GB_pred),3)\n",
        "print(f'ROC_AUC Score: {GB_ROC_AUC}')\n",
        "\n",
        "GB_F1= round(2 /((1/GB_recall)+(1/GB_prec)),3)\n",
        "print(f'Precision Score: {GB_F1}')\n"
      ],
      "metadata": {
        "id": "XiEUSkcZSJXR",
        "colab": {
          "base_uri": "https://localhost:8080/"
        },
        "outputId": "4491bcb8-82b3-4767-e535-100b22b14293"
      },
      "execution_count": 29,
      "outputs": [
        {
          "output_type": "stream",
          "name": "stdout",
          "text": [
            "Accuracy Score: 0.819\n",
            "Recall Score: 0.51\n",
            "Precision Score: 0.67\n",
            "ROC_AUC Score: 0.71\n",
            "Precision Score: 0.579\n"
          ]
        }
      ]
    },
    {
      "cell_type": "code",
      "source": [
        "#XGradient Boosting Machine (XGB)\n",
        "from xgboost import XGBClassifier\n",
        "model_XGB =XGBClassifier(n_estimators=100)\n",
        "\n",
        "model_XGB.fit(X_train, y_train)\n",
        "XGB_pred= model_XGB.predict(X_test)\n",
        "XGB_score= round(model_XGB.score(X, y),3)\n",
        "print(f'Accuracy Score: {XGB_score}')\n",
        "\n",
        "XGB_recall=round(recall_score(y_test,XGB_pred),3)\n",
        "print(f'Recall Score: {XGB_recall}')\n",
        "\n",
        "XGB_prec=round(precision_score(y_test,XGB_pred),3)\n",
        "print(f'Precision Score: {XGB_prec}')\n",
        "\n",
        "XGB_ROC_AUC=round(roc_auc_score(y_test,XGB_pred),3)\n",
        "print(f'ROC_AUC Score: {XGB_ROC_AUC}')\n",
        "\n",
        "XGB_F1= round(2 /((1/XGB_recall)+(1/XGB_prec)),3)\n",
        "print(f'Precision Score: {XGB_F1}')"
      ],
      "metadata": {
        "colab": {
          "base_uri": "https://localhost:8080/"
        },
        "id": "zIDE1n-mzcfS",
        "outputId": "8a3205a1-f34f-446d-f084-ce4c887f7791"
      },
      "execution_count": 30,
      "outputs": [
        {
          "output_type": "stream",
          "name": "stdout",
          "text": [
            "Accuracy Score: 0.815\n",
            "Recall Score: 0.51\n",
            "Precision Score: 0.678\n",
            "ROC_AUC Score: 0.711\n",
            "Precision Score: 0.582\n"
          ]
        }
      ]
    },
    {
      "cell_type": "code",
      "source": [
        ""
      ],
      "metadata": {
        "id": "kgDVwq-lSJZK"
      },
      "execution_count": null,
      "outputs": []
    },
    {
      "cell_type": "code",
      "source": [
        "comparison1_df= pd.DataFrame({\n",
        "    \"Models\" : [\"Dummy\", \"Logistic Regression\", \"Decision tree\", \"SVM\", \"Random Forest\", \"Bagging\", \"Gradient Boosting\", \"Extreme Boosting\"],\n",
        "    \"Accuracy Scores\" :  [Dummy_score,    LOG_score,   Tree_score,   SVM_score,   BAG_score,   RF_score,   GB_score,   XGB_score],\n",
        "    \"Recall Scores\"   :  [Dummy_recall,   LOG_recall,  Tree_recall,  SVM_recall,  BAG_recall,  RF_recall,  GB_recall,  XGB_recall],\n",
        "    \"Precision Scores\" : [Dummy_prec,     LOG_prec,    Tree_prec,    SVM_prec,    BAG_prec,    RF_prec,    GB_prec,    XGB_prec],\n",
        "    \"ROC_AUC Scores\" :   [Dummy_ROC_AUC,  LOG_ROC_AUC, Tree_ROC_AUC, SVM_ROC_AUC, BAG_ROC_AUC, RF_ROC_AUC, GB_ROC_AUC, XGB_ROC_AUC],\n",
        "    \"F1 Scores\" :        [Dummy_F1,       LOG_F1,      Tree_F1,      SVM_F1,      BAG_F1,      RF_F1,      GB_F1,      XGB_F1]\n",
        "})\n",
        "comparison1_df= comparison1_df.sort_values([\"Accuracy Scores\"], ascending=True)\n",
        "\n",
        "comparison1_df"
      ],
      "metadata": {
        "id": "eiiVWaMBSJdL",
        "colab": {
          "base_uri": "https://localhost:8080/",
          "height": 300
        },
        "outputId": "90f322e8-144e-4655-f81c-3aa20d9709dd"
      },
      "execution_count": 31,
      "outputs": [
        {
          "output_type": "execute_result",
          "data": {
            "text/html": [
              "\n",
              "  <div id=\"df-a3b250ec-3652-4843-abd8-37b5cc8e07da\">\n",
              "    <div class=\"colab-df-container\">\n",
              "      <div>\n",
              "<style scoped>\n",
              "    .dataframe tbody tr th:only-of-type {\n",
              "        vertical-align: middle;\n",
              "    }\n",
              "\n",
              "    .dataframe tbody tr th {\n",
              "        vertical-align: top;\n",
              "    }\n",
              "\n",
              "    .dataframe thead th {\n",
              "        text-align: right;\n",
              "    }\n",
              "</style>\n",
              "<table border=\"1\" class=\"dataframe\">\n",
              "  <thead>\n",
              "    <tr style=\"text-align: right;\">\n",
              "      <th></th>\n",
              "      <th>Models</th>\n",
              "      <th>Accuracy Scores</th>\n",
              "      <th>Recall Scores</th>\n",
              "      <th>Precision Scores</th>\n",
              "      <th>ROC_AUC Scores</th>\n",
              "      <th>F1 Scores</th>\n",
              "    </tr>\n",
              "  </thead>\n",
              "  <tbody>\n",
              "    <tr>\n",
              "      <th>0</th>\n",
              "      <td>Dummy</td>\n",
              "      <td>0.735</td>\n",
              "      <td>0.000</td>\n",
              "      <td>0.000</td>\n",
              "      <td>0.500</td>\n",
              "      <td>0.000</td>\n",
              "    </tr>\n",
              "    <tr>\n",
              "      <th>3</th>\n",
              "      <td>SVM</td>\n",
              "      <td>0.790</td>\n",
              "      <td>0.420</td>\n",
              "      <td>0.660</td>\n",
              "      <td>0.671</td>\n",
              "      <td>0.513</td>\n",
              "    </tr>\n",
              "    <tr>\n",
              "      <th>1</th>\n",
              "      <td>Logistic Regression</td>\n",
              "      <td>0.803</td>\n",
              "      <td>0.567</td>\n",
              "      <td>0.656</td>\n",
              "      <td>0.730</td>\n",
              "      <td>0.608</td>\n",
              "    </tr>\n",
              "    <tr>\n",
              "      <th>7</th>\n",
              "      <td>Extreme Boosting</td>\n",
              "      <td>0.815</td>\n",
              "      <td>0.510</td>\n",
              "      <td>0.678</td>\n",
              "      <td>0.711</td>\n",
              "      <td>0.582</td>\n",
              "    </tr>\n",
              "    <tr>\n",
              "      <th>6</th>\n",
              "      <td>Gradient Boosting</td>\n",
              "      <td>0.819</td>\n",
              "      <td>0.510</td>\n",
              "      <td>0.670</td>\n",
              "      <td>0.710</td>\n",
              "      <td>0.579</td>\n",
              "    </tr>\n",
              "    <tr>\n",
              "      <th>2</th>\n",
              "      <td>Decision tree</td>\n",
              "      <td>0.928</td>\n",
              "      <td>0.465</td>\n",
              "      <td>0.476</td>\n",
              "      <td>0.640</td>\n",
              "      <td>0.470</td>\n",
              "    </tr>\n",
              "    <tr>\n",
              "      <th>5</th>\n",
              "      <td>Bagging</td>\n",
              "      <td>0.944</td>\n",
              "      <td>0.482</td>\n",
              "      <td>0.622</td>\n",
              "      <td>0.688</td>\n",
              "      <td>0.543</td>\n",
              "    </tr>\n",
              "    <tr>\n",
              "      <th>4</th>\n",
              "      <td>Random Forest</td>\n",
              "      <td>0.945</td>\n",
              "      <td>0.497</td>\n",
              "      <td>0.632</td>\n",
              "      <td>0.696</td>\n",
              "      <td>0.556</td>\n",
              "    </tr>\n",
              "  </tbody>\n",
              "</table>\n",
              "</div>\n",
              "      <button class=\"colab-df-convert\" onclick=\"convertToInteractive('df-a3b250ec-3652-4843-abd8-37b5cc8e07da')\"\n",
              "              title=\"Convert this dataframe to an interactive table.\"\n",
              "              style=\"display:none;\">\n",
              "        \n",
              "  <svg xmlns=\"http://www.w3.org/2000/svg\" height=\"24px\"viewBox=\"0 0 24 24\"\n",
              "       width=\"24px\">\n",
              "    <path d=\"M0 0h24v24H0V0z\" fill=\"none\"/>\n",
              "    <path d=\"M18.56 5.44l.94 2.06.94-2.06 2.06-.94-2.06-.94-.94-2.06-.94 2.06-2.06.94zm-11 1L8.5 8.5l.94-2.06 2.06-.94-2.06-.94L8.5 2.5l-.94 2.06-2.06.94zm10 10l.94 2.06.94-2.06 2.06-.94-2.06-.94-.94-2.06-.94 2.06-2.06.94z\"/><path d=\"M17.41 7.96l-1.37-1.37c-.4-.4-.92-.59-1.43-.59-.52 0-1.04.2-1.43.59L10.3 9.45l-7.72 7.72c-.78.78-.78 2.05 0 2.83L4 21.41c.39.39.9.59 1.41.59.51 0 1.02-.2 1.41-.59l7.78-7.78 2.81-2.81c.8-.78.8-2.07 0-2.86zM5.41 20L4 18.59l7.72-7.72 1.47 1.35L5.41 20z\"/>\n",
              "  </svg>\n",
              "      </button>\n",
              "      \n",
              "  <style>\n",
              "    .colab-df-container {\n",
              "      display:flex;\n",
              "      flex-wrap:wrap;\n",
              "      gap: 12px;\n",
              "    }\n",
              "\n",
              "    .colab-df-convert {\n",
              "      background-color: #E8F0FE;\n",
              "      border: none;\n",
              "      border-radius: 50%;\n",
              "      cursor: pointer;\n",
              "      display: none;\n",
              "      fill: #1967D2;\n",
              "      height: 32px;\n",
              "      padding: 0 0 0 0;\n",
              "      width: 32px;\n",
              "    }\n",
              "\n",
              "    .colab-df-convert:hover {\n",
              "      background-color: #E2EBFA;\n",
              "      box-shadow: 0px 1px 2px rgba(60, 64, 67, 0.3), 0px 1px 3px 1px rgba(60, 64, 67, 0.15);\n",
              "      fill: #174EA6;\n",
              "    }\n",
              "\n",
              "    [theme=dark] .colab-df-convert {\n",
              "      background-color: #3B4455;\n",
              "      fill: #D2E3FC;\n",
              "    }\n",
              "\n",
              "    [theme=dark] .colab-df-convert:hover {\n",
              "      background-color: #434B5C;\n",
              "      box-shadow: 0px 1px 3px 1px rgba(0, 0, 0, 0.15);\n",
              "      filter: drop-shadow(0px 1px 2px rgba(0, 0, 0, 0.3));\n",
              "      fill: #FFFFFF;\n",
              "    }\n",
              "  </style>\n",
              "\n",
              "      <script>\n",
              "        const buttonEl =\n",
              "          document.querySelector('#df-a3b250ec-3652-4843-abd8-37b5cc8e07da button.colab-df-convert');\n",
              "        buttonEl.style.display =\n",
              "          google.colab.kernel.accessAllowed ? 'block' : 'none';\n",
              "\n",
              "        async function convertToInteractive(key) {\n",
              "          const element = document.querySelector('#df-a3b250ec-3652-4843-abd8-37b5cc8e07da');\n",
              "          const dataTable =\n",
              "            await google.colab.kernel.invokeFunction('convertToInteractive',\n",
              "                                                     [key], {});\n",
              "          if (!dataTable) return;\n",
              "\n",
              "          const docLinkHtml = 'Like what you see? Visit the ' +\n",
              "            '<a target=\"_blank\" href=https://colab.research.google.com/notebooks/data_table.ipynb>data table notebook</a>'\n",
              "            + ' to learn more about interactive tables.';\n",
              "          element.innerHTML = '';\n",
              "          dataTable['output_type'] = 'display_data';\n",
              "          await google.colab.output.renderOutput(dataTable, element);\n",
              "          const docLink = document.createElement('div');\n",
              "          docLink.innerHTML = docLinkHtml;\n",
              "          element.appendChild(docLink);\n",
              "        }\n",
              "      </script>\n",
              "    </div>\n",
              "  </div>\n",
              "  "
            ],
            "text/plain": [
              "                Models  Accuracy Scores  ...  ROC_AUC Scores  F1 Scores\n",
              "0                Dummy            0.735  ...           0.500      0.000\n",
              "3                  SVM            0.790  ...           0.671      0.513\n",
              "1  Logistic Regression            0.803  ...           0.730      0.608\n",
              "7     Extreme Boosting            0.815  ...           0.711      0.582\n",
              "6    Gradient Boosting            0.819  ...           0.710      0.579\n",
              "2        Decision tree            0.928  ...           0.640      0.470\n",
              "5              Bagging            0.944  ...           0.688      0.543\n",
              "4        Random Forest            0.945  ...           0.696      0.556\n",
              "\n",
              "[8 rows x 6 columns]"
            ]
          },
          "metadata": {},
          "execution_count": 31
        }
      ]
    },
    {
      "cell_type": "code",
      "source": [
        ""
      ],
      "metadata": {
        "id": "jNI7eklWSJfj"
      },
      "execution_count": null,
      "outputs": []
    },
    {
      "cell_type": "code",
      "source": [
        "#SMOTE library\n",
        "from imblearn.over_sampling import SMOTE\n",
        "from imblearn.over_sampling import SVMSMOTE\n",
        "from imblearn.over_sampling import KMeansSMOTE\n",
        "from imblearn.over_sampling import BorderlineSMOTE\n",
        "from imblearn.over_sampling import SMOTENC\n",
        "from imblearn.under_sampling import RandomUnderSampler\n",
        "from imblearn.pipeline import Pipeline\n",
        "from imblearn.pipeline import make_pipeline\n",
        "from imblearn.under_sampling import TomekLinks"
      ],
      "metadata": {
        "id": "S5k4xpi6K5Ha"
      },
      "execution_count": 34,
      "outputs": []
    },
    {
      "cell_type": "code",
      "source": [
        "#SMOTE Techniques\n",
        "#1. SMOTE\n",
        "over1 = SMOTE()\n",
        "under = RandomUnderSampler()\n",
        "\n",
        "\n",
        "#2. SVMSMOTE\n",
        "over2 = SVMSMOTE()\n",
        "under = RandomUnderSampler()\n",
        "\n",
        "\n",
        "#3. KMeansSMOTE\n",
        "over3 = KMeansSMOTE()\n",
        "under = RandomUnderSampler()\n",
        "\n",
        "\n",
        "#4. BorderlineSMOTE\n",
        "over4 = BorderlineSMOTE()\n",
        "under = RandomUnderSampler()\n",
        " \n",
        "\n",
        "#5. SMOTENC (SMOTE for Nominal and Categorical variables)\n",
        "over5 = SMOTENC(col_names)\n",
        "under = RandomUnderSampler()\n",
        "\n",
        "\n",
        "#6. SMOTE with Tomek Links \n",
        "resample=TomekLinks(sampling_strategy='majority')\n"
      ],
      "metadata": {
        "id": "__v4TJurG3od"
      },
      "execution_count": 35,
      "outputs": []
    },
    {
      "cell_type": "code",
      "source": [
        "# Define models \n",
        "# 1. SVM\n",
        "model = LinearSVC(max_iter=10_000, random_state=10)\n",
        "\n",
        "# define steps\n",
        "steps1 = [('o', over1), ('u', under), ('m', model)]\n",
        "steps2 = [('o', over2), ('u', under), ('m', model)]\n",
        "steps3 = [('o', over3), ('u', under), ('m', model)]\n",
        "steps4 = [('o', over4), ('u', under), ('m', model)]\n",
        "steps5 = [('o', over5), ('u', under), ('m', model)]\n",
        "steps6 = [('r', resample), ('m', model)]\n",
        "\n",
        "#Pipelines\n",
        "pipeline1 = Pipeline(steps=steps1)\n",
        "pipeline2 = Pipeline(steps=steps2)\n",
        "pipeline3 = Pipeline(steps=steps3)\n",
        "pipeline4 = Pipeline(steps=steps4)\n",
        "pipeline5 = Pipeline(steps=steps5)\n",
        "pipeline6 = Pipeline(steps=steps6)\n"
      ],
      "metadata": {
        "id": "SwUnqRg9Gwgn"
      },
      "execution_count": 36,
      "outputs": []
    },
    {
      "cell_type": "code",
      "source": [
        "# Fit model 1\n",
        "fit1=pipeline1.fit(X1_train, y1_train)\n",
        "SMOTE_pred1= fit1.predict(X1_test)\n",
        "\n",
        "#Accuracy Score\n",
        "Score1= round(fit1.score(X1_test, y1_test),3)\n",
        "print(f'Smote_Score: {Score1}')\n",
        "\n",
        "#Recall Score\n",
        "SMOTE1_recall=round(recall_score(y1_test,SMOTE_pred1),3)\n",
        "print(f'SMOTE2_recall: {SMOTE1_recall}')\n",
        "\n",
        "#Precision Score\n",
        "SMOTE1_prec=round(precision_score(y1_test,SMOTE_pred1),3)\n",
        "print(f'SMOTE2_precision: {SMOTE1_prec}')\n",
        "\n",
        "#ROC_AUC Score\n",
        "SMOTE1_ROC_AUC=round(roc_auc_score(y1_test,SMOTE_pred1),3)\n",
        "print(f'SMOTE_roc_auc: {SMOTE1_ROC_AUC}')\n",
        "\n",
        "#F1 Score\n",
        "SMOTE1_F1=round(2 /((1/SMOTE1_recall)+(1/SMOTE1_prec)),3)\n",
        "print(f'SMOTE_F1: {SMOTE1_F1}')"
      ],
      "metadata": {
        "colab": {
          "base_uri": "https://localhost:8080/"
        },
        "id": "cE2Di5cZGwiu",
        "outputId": "99118334-7d19-4181-9e13-d3e6a12ee7da"
      },
      "execution_count": 39,
      "outputs": [
        {
          "output_type": "stream",
          "name": "stdout",
          "text": [
            "Smote_Score: 0.764\n",
            "SMOTE2_recall: 0.694\n",
            "SMOTE2_precision: 0.544\n",
            "SMOTE_roc_auc: 0.742\n",
            "SMOTE_F1: 0.61\n"
          ]
        }
      ]
    },
    {
      "cell_type": "code",
      "source": [
        "# Fit model 2\n",
        "fit2=pipeline2.fit(X2_train, y2_train)\n",
        "SMOTE_pred2= fit2.predict(X2_test)\n",
        "\n",
        "#Accuracy Score\n",
        "Score2= round(fit2.score(X2_test, y2_test),3)\n",
        "print(f'Smote2_Score: {Score2}')\n",
        "\n",
        "#Recall Score\n",
        "SMOTE2_recall=round(recall_score(y2_test,SMOTE_pred2),3)\n",
        "print(f'SMOTE2_recall: {SMOTE2_recall}')\n",
        "\n",
        "#Precision Score\n",
        "SMOTE2_prec=round(precision_score(y2_test,SMOTE_pred2),3)\n",
        "print(f'SMOTE2_precision: {SMOTE2_prec}')\n",
        "\n",
        "#ROC_AUC Score\n",
        "SMOTE2_ROC_AUC=round(roc_auc_score(y2_test,SMOTE_pred2),3)\n",
        "print(f'SMOTE2_roc_auc: {SMOTE2_ROC_AUC}')\n",
        "\n",
        "#F1 Score\n",
        "SMOTE2_F1=round(2 /((1/SMOTE2_recall)+(1/SMOTE2_prec)),3)\n",
        "print(f'SMOTE2_F1: {SMOTE2_F1}')"
      ],
      "metadata": {
        "id": "BLQmesXdGlZv",
        "colab": {
          "base_uri": "https://localhost:8080/"
        },
        "outputId": "dcbb1f26-4230-4df5-ae1f-009a6ad097cb"
      },
      "execution_count": 40,
      "outputs": [
        {
          "output_type": "stream",
          "name": "stdout",
          "text": [
            "Smote2_Score: 0.718\n",
            "SMOTE2_recall: 0.805\n",
            "SMOTE2_precision: 0.481\n",
            "SMOTE2_roc_auc: 0.746\n",
            "SMOTE2_F1: 0.602\n"
          ]
        }
      ]
    },
    {
      "cell_type": "code",
      "source": [
        "# Fit model 3\n",
        "fit3=pipeline3.fit(X3_train, y3_train)\n",
        "SMOTE_pred3= fit1.predict(X3_test)\n",
        "\n",
        "#Accuracy Score\n",
        "Score3= round(fit3.score(X3_test, y3_test),3)\n",
        "print(f'Smote3_Score: {Score3}')\n",
        "\n",
        "#Recall Score\n",
        "SMOTE3_recall=round(recall_score(y3_test,SMOTE_pred3),3)\n",
        "print(f'SMOTE3_recall: {SMOTE3_recall}')\n",
        "\n",
        "#Precision Score\n",
        "SMOTE3_prec=round(precision_score(y3_test,SMOTE_pred3),3)\n",
        "print(f'SMOTE3_precision: {SMOTE3_prec}')\n",
        "\n",
        "#ROC_AUC Score\n",
        "SMOTE3_ROC_AUC=round(roc_auc_score(y3_test,SMOTE_pred3),3)\n",
        "print(f'SMOTE3_roc_auc: {SMOTE3_ROC_AUC}')\n",
        "\n",
        "#F1 Score\n",
        "SMOTE3_F1=round(2 /((1/SMOTE3_recall)+(1/SMOTE3_prec)),3)\n",
        "print(f'SMOTE3_F1: {SMOTE3_F1}')"
      ],
      "metadata": {
        "id": "bZ2GId58HyW2",
        "colab": {
          "base_uri": "https://localhost:8080/"
        },
        "outputId": "8aa57efc-1556-4c7a-c0a5-64085859e5d8"
      },
      "execution_count": 41,
      "outputs": [
        {
          "output_type": "stream",
          "name": "stdout",
          "text": [
            "Smote3_Score: 0.761\n",
            "SMOTE3_recall: 0.747\n",
            "SMOTE3_precision: 0.536\n",
            "SMOTE3_roc_auc: 0.757\n",
            "SMOTE3_F1: 0.624\n"
          ]
        }
      ]
    },
    {
      "cell_type": "code",
      "source": [
        "# Fit model 4\n",
        "fit4=pipeline1.fit(X4_train, y4_train)\n",
        "SMOTE_pred4= fit4.predict(X4_test)\n",
        "\n",
        "#Accuracy Score\n",
        "Score4= round(fit4.score(X4_test, y4_test),3)\n",
        "print(f'Smote4_Score: {Score4}')\n",
        "\n",
        "#Recall Score\n",
        "SMOTE4_recall=round(recall_score(y4_test,SMOTE_pred4),3)\n",
        "print(f'SMOTE4_recall: {SMOTE4_recall}')\n",
        "\n",
        "#Precision Score\n",
        "SMOTE4_prec=round(precision_score(y4_test,SMOTE_pred4),3)\n",
        "print(f'SMOTE4_precision: {SMOTE4_prec}')\n",
        "\n",
        "#ROC_AUC Score\n",
        "SMOTE4_ROC_AUC=round(roc_auc_score(y4_test,SMOTE_pred4),3)\n",
        "print(f'SMOTE4_roc_auc: {SMOTE4_ROC_AUC}')\n",
        "\n",
        "#F1 Score\n",
        "SMOTE4_F1=round(2 /((1/SMOTE4_recall)+(1/SMOTE4_prec)),3)\n",
        "print(f'SMOTE4_F1: {SMOTE4_F1}')"
      ],
      "metadata": {
        "id": "MCuRoC6XHyZM",
        "colab": {
          "base_uri": "https://localhost:8080/"
        },
        "outputId": "e0cdcb33-eab9-4774-d357-26d0acaa5524"
      },
      "execution_count": 42,
      "outputs": [
        {
          "output_type": "stream",
          "name": "stdout",
          "text": [
            "Smote4_Score: 0.759\n",
            "SMOTE4_recall: 0.7\n",
            "SMOTE4_precision: 0.535\n",
            "SMOTE4_roc_auc: 0.74\n",
            "SMOTE4_F1: 0.606\n"
          ]
        }
      ]
    },
    {
      "cell_type": "code",
      "source": [
        "# Fit model 5\n",
        "fit5=pipeline5.fit(X5_train, y5_train)\n",
        "SMOTE_pred5= fit5.predict(X5_test)\n",
        "\n",
        "#Accuracy Score\n",
        "Score5= round(fit5.score(X5_test, y5_test),3)\n",
        "print(f'Smote_Score: {Score5}')\n",
        "\n",
        "#Recall Score\n",
        "SMOTE5_recall=round(recall_score(y5_test,SMOTE_pred5),3)\n",
        "print(f'SMOTE5_recall: {SMOTE5_recall}')\n",
        "\n",
        "#Precision Score\n",
        "SMOTE5_prec=round(precision_score(y5_test,SMOTE5_pred1),3)\n",
        "print(f'SMOTE2_precision: {SMOTE5_prec}')\n",
        "\n",
        "#ROC_AUC Score\n",
        "SMOTE5_ROC_AUC=round(roc_auc_score(y5_test,SMOTE5_pred1),3)\n",
        "print(f'SMOTE_roc_auc: {SMOTE5_ROC_AUC}')\n",
        "\n",
        "#F1 Score\n",
        "SMOTE5_F1=round(2 /((1/SMOTE5_recall)+(1/SMOTE5_prec)),3)\n",
        "print(f'SMOTE_F1: {SMOTE5_F1}')"
      ],
      "metadata": {
        "id": "G4MAjm1gHybr"
      },
      "execution_count": null,
      "outputs": []
    },
    {
      "cell_type": "code",
      "source": [
        "# Fit model 6\n",
        "fit6=pipeline6.fit(X2_train, y2_train)\n",
        "SMOTE_pred6= fit6.predict(X2_test)\n",
        "\n",
        "#Accuracy Score\n",
        "Score6= round(fit6.score(X2_test, y2_test),3)\n",
        "print(f'Smote6_Score: {Score6}')\n",
        "\n",
        "#Recall Score\n",
        "SMOTE6_recall=round(recall_score(y2_test,SMOTE_pred6),3)\n",
        "print(f'SMOTE6_recall: {SMOTE6_recall}')\n",
        "\n",
        "#Precision Score\n",
        "SMOTE6_prec=round(precision_score(y2_test,SMOTE_pred6),3)\n",
        "print(f'SMOTE6_precision: {SMOTE6_prec}')\n",
        "\n",
        "#ROC_AUC Score\n",
        "SMOTE6_ROC_AUC=round(roc_auc_score(y2_test,SMOTE_pred6),3)\n",
        "print(f'SMOTE6_roc_auc: {SMOTE6_ROC_AUC}')\n",
        "\n",
        "#F1 Score\n",
        "SMOTE6_F1=round(2 /((1/SMOTE6_recall)+(1/SMOTE6_prec)),3)\n",
        "print(f'SMOTE6_F1: {SMOTE6_F1}')"
      ],
      "metadata": {
        "colab": {
          "base_uri": "https://localhost:8080/"
        },
        "id": "Sf5SR8dnX3jt",
        "outputId": "a71d8d13-899b-4130-d1b4-d538b899a734"
      },
      "execution_count": 45,
      "outputs": [
        {
          "output_type": "stream",
          "name": "stdout",
          "text": [
            "Smote6_Score: 0.794\n",
            "SMOTE6_recall: 0.642\n",
            "SMOTE6_precision: 0.606\n",
            "SMOTE6_roc_auc: 0.746\n",
            "SMOTE6_F1: 0.623\n"
          ]
        }
      ]
    },
    {
      "cell_type": "code",
      "source": [
        "\n",
        "\n",
        "\n"
      ],
      "metadata": {
        "id": "j0hS_p_QX_uM"
      },
      "execution_count": null,
      "outputs": []
    },
    {
      "cell_type": "code",
      "source": [
        ""
      ],
      "metadata": {
        "id": "iqdFm_eGX_wd"
      },
      "execution_count": null,
      "outputs": []
    },
    {
      "cell_type": "code",
      "source": [
        "comparison2_df= pd.DataFrame({\n",
        "    \"Models\" : [ \"SVM\", \"Logistic Regression\", \"SMOTE\", \"SVMSMOTE\",  \"KMeansSMOTE\", \"BorderlineSMOTE\", \"SMOTE_TomekLinks\"],\n",
        "    \"Accuracy Scores\" :  [SVM_score,   LOG_score,    Score1,          Score2,         Score3,         Score4,           Score6 ],\n",
        "    \"Recall Scores\"   :  [SVM_recall,  LOG_recall,   SMOTE1_recall,   SMOTE2_recall,  SMOTE3_recall,  SMOTE4_recall,    SMOTE6_recall],\n",
        "    \"Precision Scores\" : [SVM_prec,    LOG_prec,     SMOTE1_prec,     SMOTE2_prec,    SMOTE3_prec,    SMOTE4_prec,      SMOTE6_prec],\n",
        "    \"ROC_AUC Scores\" :   [SVM_ROC_AUC, LOG_ROC_AUC,  SMOTE1_ROC_AUC,  SMOTE2_ROC_AUC, SMOTE3_ROC_AUC, SMOTE4_ROC_AUC ,  SMOTE6_ROC_AUC],\n",
        "    \"F1 Scores\" :        [SVM_F1,      LOG_F1,       SMOTE1_F1,       SMOTE2_F1,      SMOTE3_F1,      SMOTE4_F1,        SMOTE6_F1]\n",
        "})\n",
        "comparison2_df= comparison2_df.sort_values([\"F1 Scores\"], ascending=True)\n",
        "\n",
        "comparison2_df"
      ],
      "metadata": {
        "id": "8qpszvcQHyhT",
        "colab": {
          "base_uri": "https://localhost:8080/",
          "height": 269
        },
        "outputId": "aaae4cbc-09e9-4dd0-b899-d30b9e9df42a"
      },
      "execution_count": 46,
      "outputs": [
        {
          "output_type": "execute_result",
          "data": {
            "text/html": [
              "\n",
              "  <div id=\"df-8f84d3ff-9dee-4dbb-83b0-e94dd692b83a\">\n",
              "    <div class=\"colab-df-container\">\n",
              "      <div>\n",
              "<style scoped>\n",
              "    .dataframe tbody tr th:only-of-type {\n",
              "        vertical-align: middle;\n",
              "    }\n",
              "\n",
              "    .dataframe tbody tr th {\n",
              "        vertical-align: top;\n",
              "    }\n",
              "\n",
              "    .dataframe thead th {\n",
              "        text-align: right;\n",
              "    }\n",
              "</style>\n",
              "<table border=\"1\" class=\"dataframe\">\n",
              "  <thead>\n",
              "    <tr style=\"text-align: right;\">\n",
              "      <th></th>\n",
              "      <th>Models</th>\n",
              "      <th>Accuracy Scores</th>\n",
              "      <th>Recall Scores</th>\n",
              "      <th>Precision Scores</th>\n",
              "      <th>ROC_AUC Scores</th>\n",
              "      <th>F1 Scores</th>\n",
              "    </tr>\n",
              "  </thead>\n",
              "  <tbody>\n",
              "    <tr>\n",
              "      <th>0</th>\n",
              "      <td>SVM</td>\n",
              "      <td>0.790</td>\n",
              "      <td>0.420</td>\n",
              "      <td>0.660</td>\n",
              "      <td>0.671</td>\n",
              "      <td>0.513</td>\n",
              "    </tr>\n",
              "    <tr>\n",
              "      <th>3</th>\n",
              "      <td>SVMSMOTE</td>\n",
              "      <td>0.718</td>\n",
              "      <td>0.805</td>\n",
              "      <td>0.481</td>\n",
              "      <td>0.746</td>\n",
              "      <td>0.602</td>\n",
              "    </tr>\n",
              "    <tr>\n",
              "      <th>5</th>\n",
              "      <td>BorderlineSMOTE</td>\n",
              "      <td>0.759</td>\n",
              "      <td>0.700</td>\n",
              "      <td>0.535</td>\n",
              "      <td>0.740</td>\n",
              "      <td>0.606</td>\n",
              "    </tr>\n",
              "    <tr>\n",
              "      <th>1</th>\n",
              "      <td>Logistic Regression</td>\n",
              "      <td>0.803</td>\n",
              "      <td>0.567</td>\n",
              "      <td>0.656</td>\n",
              "      <td>0.730</td>\n",
              "      <td>0.608</td>\n",
              "    </tr>\n",
              "    <tr>\n",
              "      <th>2</th>\n",
              "      <td>SMOTE</td>\n",
              "      <td>0.764</td>\n",
              "      <td>0.694</td>\n",
              "      <td>0.544</td>\n",
              "      <td>0.742</td>\n",
              "      <td>0.610</td>\n",
              "    </tr>\n",
              "    <tr>\n",
              "      <th>6</th>\n",
              "      <td>SMOTE_TomekLinks</td>\n",
              "      <td>0.794</td>\n",
              "      <td>0.642</td>\n",
              "      <td>0.606</td>\n",
              "      <td>0.746</td>\n",
              "      <td>0.623</td>\n",
              "    </tr>\n",
              "    <tr>\n",
              "      <th>4</th>\n",
              "      <td>KMeansSMOTE</td>\n",
              "      <td>0.761</td>\n",
              "      <td>0.747</td>\n",
              "      <td>0.536</td>\n",
              "      <td>0.757</td>\n",
              "      <td>0.624</td>\n",
              "    </tr>\n",
              "  </tbody>\n",
              "</table>\n",
              "</div>\n",
              "      <button class=\"colab-df-convert\" onclick=\"convertToInteractive('df-8f84d3ff-9dee-4dbb-83b0-e94dd692b83a')\"\n",
              "              title=\"Convert this dataframe to an interactive table.\"\n",
              "              style=\"display:none;\">\n",
              "        \n",
              "  <svg xmlns=\"http://www.w3.org/2000/svg\" height=\"24px\"viewBox=\"0 0 24 24\"\n",
              "       width=\"24px\">\n",
              "    <path d=\"M0 0h24v24H0V0z\" fill=\"none\"/>\n",
              "    <path d=\"M18.56 5.44l.94 2.06.94-2.06 2.06-.94-2.06-.94-.94-2.06-.94 2.06-2.06.94zm-11 1L8.5 8.5l.94-2.06 2.06-.94-2.06-.94L8.5 2.5l-.94 2.06-2.06.94zm10 10l.94 2.06.94-2.06 2.06-.94-2.06-.94-.94-2.06-.94 2.06-2.06.94z\"/><path d=\"M17.41 7.96l-1.37-1.37c-.4-.4-.92-.59-1.43-.59-.52 0-1.04.2-1.43.59L10.3 9.45l-7.72 7.72c-.78.78-.78 2.05 0 2.83L4 21.41c.39.39.9.59 1.41.59.51 0 1.02-.2 1.41-.59l7.78-7.78 2.81-2.81c.8-.78.8-2.07 0-2.86zM5.41 20L4 18.59l7.72-7.72 1.47 1.35L5.41 20z\"/>\n",
              "  </svg>\n",
              "      </button>\n",
              "      \n",
              "  <style>\n",
              "    .colab-df-container {\n",
              "      display:flex;\n",
              "      flex-wrap:wrap;\n",
              "      gap: 12px;\n",
              "    }\n",
              "\n",
              "    .colab-df-convert {\n",
              "      background-color: #E8F0FE;\n",
              "      border: none;\n",
              "      border-radius: 50%;\n",
              "      cursor: pointer;\n",
              "      display: none;\n",
              "      fill: #1967D2;\n",
              "      height: 32px;\n",
              "      padding: 0 0 0 0;\n",
              "      width: 32px;\n",
              "    }\n",
              "\n",
              "    .colab-df-convert:hover {\n",
              "      background-color: #E2EBFA;\n",
              "      box-shadow: 0px 1px 2px rgba(60, 64, 67, 0.3), 0px 1px 3px 1px rgba(60, 64, 67, 0.15);\n",
              "      fill: #174EA6;\n",
              "    }\n",
              "\n",
              "    [theme=dark] .colab-df-convert {\n",
              "      background-color: #3B4455;\n",
              "      fill: #D2E3FC;\n",
              "    }\n",
              "\n",
              "    [theme=dark] .colab-df-convert:hover {\n",
              "      background-color: #434B5C;\n",
              "      box-shadow: 0px 1px 3px 1px rgba(0, 0, 0, 0.15);\n",
              "      filter: drop-shadow(0px 1px 2px rgba(0, 0, 0, 0.3));\n",
              "      fill: #FFFFFF;\n",
              "    }\n",
              "  </style>\n",
              "\n",
              "      <script>\n",
              "        const buttonEl =\n",
              "          document.querySelector('#df-8f84d3ff-9dee-4dbb-83b0-e94dd692b83a button.colab-df-convert');\n",
              "        buttonEl.style.display =\n",
              "          google.colab.kernel.accessAllowed ? 'block' : 'none';\n",
              "\n",
              "        async function convertToInteractive(key) {\n",
              "          const element = document.querySelector('#df-8f84d3ff-9dee-4dbb-83b0-e94dd692b83a');\n",
              "          const dataTable =\n",
              "            await google.colab.kernel.invokeFunction('convertToInteractive',\n",
              "                                                     [key], {});\n",
              "          if (!dataTable) return;\n",
              "\n",
              "          const docLinkHtml = 'Like what you see? Visit the ' +\n",
              "            '<a target=\"_blank\" href=https://colab.research.google.com/notebooks/data_table.ipynb>data table notebook</a>'\n",
              "            + ' to learn more about interactive tables.';\n",
              "          element.innerHTML = '';\n",
              "          dataTable['output_type'] = 'display_data';\n",
              "          await google.colab.output.renderOutput(dataTable, element);\n",
              "          const docLink = document.createElement('div');\n",
              "          docLink.innerHTML = docLinkHtml;\n",
              "          element.appendChild(docLink);\n",
              "        }\n",
              "      </script>\n",
              "    </div>\n",
              "  </div>\n",
              "  "
            ],
            "text/plain": [
              "                Models  Accuracy Scores  ...  ROC_AUC Scores  F1 Scores\n",
              "0                  SVM            0.790  ...           0.671      0.513\n",
              "3             SVMSMOTE            0.718  ...           0.746      0.602\n",
              "5      BorderlineSMOTE            0.759  ...           0.740      0.606\n",
              "1  Logistic Regression            0.803  ...           0.730      0.608\n",
              "2                SMOTE            0.764  ...           0.742      0.610\n",
              "6     SMOTE_TomekLinks            0.794  ...           0.746      0.623\n",
              "4          KMeansSMOTE            0.761  ...           0.757      0.624\n",
              "\n",
              "[7 rows x 6 columns]"
            ]
          },
          "metadata": {},
          "execution_count": 46
        }
      ]
    },
    {
      "cell_type": "code",
      "source": [
        "#COST SENSITIVE APPROACH"
      ],
      "metadata": {
        "id": "xh8klVMoHylW"
      },
      "execution_count": 47,
      "outputs": []
    },
    {
      "cell_type": "code",
      "source": [
        "#####\n",
        "#Weighted Logistic Regression"
      ],
      "metadata": {
        "id": "jJcAreerHynn"
      },
      "execution_count": 48,
      "outputs": []
    },
    {
      "cell_type": "code",
      "source": [
        "#Simple Logistic Regression\n",
        "model_LG1 = LogisticRegression(random_state=1, class_weight=None)\n",
        "model_LG1.fit(X_train, y_train)\n",
        "LG1_pred = model_LG1.predict(X_test)\n",
        "\n",
        "print(f'Confusion Matrix:\\n {confusion_matrix(y_test, LG1_pred)}')\n",
        "print()\n",
        "\n",
        "LG1_score= round(model_LG1.score(X_test, y_test),3)\n",
        "print(f'Accuracy Score: {LG1_score}')\n",
        "\n",
        "LG1_recall=round(recall_score(y_test,LG1_pred),3)\n",
        "print(f'Recall Score: {LG1_recall}')\n",
        "\n",
        "LG1_prec=round(precision_score(y_test,LG1_pred),3)\n",
        "print(f'Precision Score: {LG1_prec}')\n",
        "\n",
        "LG1_ROC_AUC=round(roc_auc_score(y_test,LG1_pred),3)\n",
        "print(f'ROC_AUC Score: {LG1_ROC_AUC}')\n",
        "\n",
        "LG1_F1= round(2 /((1/LG1_recall)+(1/LG1_prec)),3)\n",
        "print(f'Precision Score: {LG1_F1}')"
      ],
      "metadata": {
        "id": "PUPFHGSNHyp6",
        "colab": {
          "base_uri": "https://localhost:8080/"
        },
        "outputId": "5106dfd8-bab2-4644-be15-576d8f4d9ec3"
      },
      "execution_count": 49,
      "outputs": [
        {
          "output_type": "stream",
          "name": "stdout",
          "text": [
            "Confusion Matrix:\n",
            " [[1155  139]\n",
            " [ 202  265]]\n",
            "\n",
            "Accuracy Score: 0.806\n",
            "Recall Score: 0.567\n",
            "Precision Score: 0.656\n",
            "ROC_AUC Score: 0.73\n",
            "Precision Score: 0.608\n"
          ]
        }
      ]
    },
    {
      "cell_type": "code",
      "source": [
        "#Balanced Logistic Regression\n",
        "model_LG2 = LogisticRegression(random_state=1, class_weight='balanced')\n",
        "model_LG2.fit(X_train, y_train)\n",
        "LG2_pred = model_LG2.predict(X_test)\n",
        "\n",
        "print(f'Confusion Matrix:\\n {confusion_matrix(y_test, LG2_pred)}')\n",
        "print()\n",
        "\n",
        "LG2_score= round(model_LG2.score(X_test, y_test),3)\n",
        "print(f'Accuracy Score: {LG2_score}')\n",
        "\n",
        "LG2_recall=round(recall_score(y_test,LG2_pred),3)\n",
        "print(f'Recall Score: {LG2_recall}')\n",
        "\n",
        "LG2_prec=round(precision_score(y_test,LG2_pred),3)\n",
        "print(f'Precision Score: {LG2_prec}')\n",
        "\n",
        "LG2_ROC_AUC=round(roc_auc_score(y_test,LG2_pred),3)\n",
        "print(f'ROC_AUC Score: {LG2_ROC_AUC}')\n",
        "\n",
        "LG2_F1= round(2 /((1/LG2_recall)+(1/LG2_prec)),3)\n",
        "print(f'Precision Score: {LG2_F1}')"
      ],
      "metadata": {
        "id": "HDjtO3scHyr2",
        "colab": {
          "base_uri": "https://localhost:8080/"
        },
        "outputId": "2b6eb461-520b-40ec-fecf-640a590011d2"
      },
      "execution_count": 50,
      "outputs": [
        {
          "output_type": "stream",
          "name": "stdout",
          "text": [
            "Confusion Matrix:\n",
            " [[923 371]\n",
            " [101 366]]\n",
            "\n",
            "Accuracy Score: 0.732\n",
            "Recall Score: 0.784\n",
            "Precision Score: 0.497\n",
            "ROC_AUC Score: 0.749\n",
            "Precision Score: 0.608\n"
          ]
        }
      ]
    },
    {
      "cell_type": "code",
      "source": [
        "#Weighted Logistic Regression\n",
        "\n",
        "#Choosing the weight\n",
        "from sklearn.model_selection import GridSearchCV, StratifiedKFold\n",
        "lr = LogisticRegression(solver='newton-cg')\n",
        "\n",
        "#Setting the range for class weights\n",
        "weights = np.linspace(0.0,0.99,200)\n",
        "\n",
        "#Creating a dictionary grid for grid search\n",
        "param_grid = {'class_weight': [{0:x, 1:1.0-x} for x in weights]}\n",
        "\n",
        "#Fitting grid search to the train data with 5 folds\n",
        "gridsearch = GridSearchCV(estimator= lr, \n",
        "                          param_grid= param_grid,\n",
        "                          cv=StratifiedKFold(), \n",
        "                          n_jobs=-1, \n",
        "                          scoring='f1', \n",
        "                          verbose=2).fit(X_train, y_train)\n",
        "\n",
        "#Ploting the score for different values of weight\n",
        "sns.set_style('whitegrid')\n",
        "plt.figure(figsize=(12,8))\n",
        "weigh_data = pd.DataFrame({ 'score': gridsearch.cv_results_['mean_test_score'], 'weight': (1- weights)})\n",
        "sns.lineplot(weigh_data['weight'], weigh_data['score'])\n",
        "plt.xlabel('Weight for class 1')\n",
        "plt.ylabel('F1 score')\n",
        "plt.xticks([round(i/10,1) for i in range(0,11,1)])\n",
        "plt.title('Scoring for different class weights', fontsize=24)"
      ],
      "metadata": {
        "id": "sxV-ano4HyuP",
        "colab": {
          "base_uri": "https://localhost:8080/",
          "height": 557
        },
        "outputId": "52ee7ec4-26f9-45cc-ca98-2d8d00288318"
      },
      "execution_count": 51,
      "outputs": [
        {
          "output_type": "stream",
          "name": "stdout",
          "text": [
            "Fitting 5 folds for each of 200 candidates, totalling 1000 fits\n"
          ]
        },
        {
          "output_type": "execute_result",
          "data": {
            "text/plain": [
              "Text(0.5, 1.0, 'Scoring for different class weights')"
            ]
          },
          "metadata": {},
          "execution_count": 51
        },
        {
          "output_type": "display_data",
          "data": {
            "image/png": "[encoded data removed]",
            "text/plain": [
              "<Figure size 864x576 with 1 Axes>"
            ]
          },
          "metadata": {}
        }
      ]
    },
    {
      "cell_type": "code",
      "source": [
        "model_LG3 = LogisticRegression(solver='newton-cg', class_weight={0: 0.27, 1: 0.73})\n",
        "model_LG3.fit(X_train, y_train)\n",
        "LG3_pred = model_LG3.predict(X_test)\n",
        "\n",
        "print(f'Confusion Matrix:\\n {confusion_matrix(y_test, LG3_pred)}')\n",
        "\n",
        "LG3_score= round(model_LG3.score(X_test, y_test),3)\n",
        "print(f'Accuracy Score: {LG3_score}')\n",
        "\n",
        "LG3_recall=round(recall_score(y_test,LG3_pred),3)\n",
        "print(f'Recall Score: {LG3_recall}')\n",
        "\n",
        "LG3_prec=round(precision_score(y_test,LG3_pred),3)\n",
        "print(f'Precision Score: {LG3_prec}')\n",
        "\n",
        "LG3_ROC_AUC=round(roc_auc_score(y_test,LG3_pred),3)\n",
        "print(f'ROC_AUC Score: {LG3_ROC_AUC}')\n",
        "\n",
        "LG3_F1= round(2 /((1/LG3_recall)+(1/LG3_prec)),3)\n",
        "print(f'Precision Score: {LG3_F1}')"
      ],
      "metadata": {
        "id": "ud5Sfq_hGZfz",
        "colab": {
          "base_uri": "https://localhost:8080/"
        },
        "outputId": "c52bcf6d-bc97-4586-c7fc-1fcd93bfd635"
      },
      "execution_count": 52,
      "outputs": [
        {
          "output_type": "stream",
          "name": "stdout",
          "text": [
            "Confusion Matrix:\n",
            " [[931 363]\n",
            " [104 363]]\n",
            "\n",
            "Recall Score: 0.7773019271948608\n",
            "Accuracy Score: 0.735\n",
            "Recall Score: 0.777\n",
            "Precision Score: 0.5\n",
            "ROC_AUC Score: 0.748\n",
            "Precision Score: 0.608\n"
          ]
        }
      ]
    },
    {
      "cell_type": "code",
      "source": [
        ""
      ],
      "metadata": {
        "id": "5AYioKW0baHy"
      },
      "execution_count": null,
      "outputs": []
    },
    {
      "cell_type": "code",
      "source": [
        "#Weighted (Balanced) Support Vector Machine (SVM)\n",
        "from sklearn import svm\n",
        "from sklearn.svm import SVC\n",
        "model_SVM1= SVC(kernel='linear',class_weight='balanced', C=1.0,  random_state=0)\n",
        "\n",
        "model_SVM1.fit(X_train, y_train)\n",
        "SVM1_pred= model_SVM1.predict(X_test)\n",
        "SVM1_score= round(model_SVM1.score(X_test, y_test),3)\n",
        "print(f'Accuracy Score: {SVM1_score}')\n",
        "\n",
        "SVM1_recall=round(recall_score(y_test,SVM1_pred),3)\n",
        "print(f'Recall Score: {SVM1_recall}')\n",
        "\n",
        "SVM1_prec=round(precision_score(y_test,SVM1_pred),3)\n",
        "print(f'Precision Score: {SVM1_prec}')\n",
        "\n",
        "SVM1_ROC_AUC=round(roc_auc_score(y_test,SVM1_pred),3)\n",
        "print(f'ROC_AUC Score: {SVM1_ROC_AUC}')\n",
        "\n",
        "SVM1_F1= round(2 /((1/SVM1_recall)+(1/SVM1_prec)),3)\n",
        "print(f'Precision Score: {SVM1_F1}')\n"
      ],
      "metadata": {
        "colab": {
          "base_uri": "https://localhost:8080/"
        },
        "id": "XNW4pT7PPySQ",
        "outputId": "3f0b00e9-b086-4b06-94fc-6119fd9e9bac"
      },
      "execution_count": 53,
      "outputs": [
        {
          "output_type": "stream",
          "name": "stdout",
          "text": [
            "Accuracy Score: 0.707\n",
            "Recall Score: 0.831\n",
            "Precision Score: 0.47\n",
            "ROC_AUC Score: 0.747\n",
            "Precision Score: 0.6\n"
          ]
        }
      ]
    },
    {
      "cell_type": "code",
      "source": [
        "#Weighted Logistic Regression\n",
        "\n",
        "#Choosing the weight\n",
        "from sklearn.model_selection import GridSearchCV, StratifiedKFold\n",
        "lr = SVC(kernel='linear')\n",
        "\n",
        "#Setting the range for class weights\n",
        "weights = np.linspace(0.0,0.99,10)\n",
        "\n",
        "#Creating a dictionary grid for grid search\n",
        "param_grid = {'class_weight': [{0:x, 1:1.0-x} for x in weights]}\n",
        "\n",
        "#Fitting grid search to the train data with 5 folds\n",
        "gridsearch = GridSearchCV(estimator= lr, \n",
        "                          param_grid= param_grid,\n",
        "                          cv=StratifiedKFold(), \n",
        "                          n_jobs=-1, \n",
        "                          scoring='f1', \n",
        "                          verbose=2).fit(X_train, y_train)\n",
        "\n",
        "#Ploting the score for different values of weight\n",
        "sns.set_style('whitegrid')\n",
        "plt.figure(figsize=(12,8))\n",
        "weigh_data = pd.DataFrame({ 'score': gridsearch.cv_results_['mean_test_score'], 'weight': (1- weights)})\n",
        "sns.lineplot(weigh_data['weight'], weigh_data['score'])\n",
        "plt.xlabel('Weight for class 1')\n",
        "plt.ylabel('F1 score')\n",
        "plt.xticks([round(i/10,1) for i in range(0,11,1)])\n",
        "plt.title('Scoring for different class weights', fontsize=24)"
      ],
      "metadata": {
        "colab": {
          "base_uri": "https://localhost:8080/",
          "height": 557
        },
        "id": "p4YMPoXuPyUZ",
        "outputId": "b0e8f54d-576e-476e-ba33-b14f92a64c40"
      },
      "execution_count": 54,
      "outputs": [
        {
          "output_type": "stream",
          "name": "stdout",
          "text": [
            "Fitting 5 folds for each of 10 candidates, totalling 50 fits\n"
          ]
        },
        {
          "output_type": "execute_result",
          "data": {
            "text/plain": [
              "Text(0.5, 1.0, 'Scoring for different class weights')"
            ]
          },
          "metadata": {},
          "execution_count": 54
        },
        {
          "output_type": "display_data",
          "data": {
            "image/png": "[encoded data removed]",
            "text/plain": [
              "<Figure size 864x576 with 1 Axes>"
            ]
          },
          "metadata": {}
        }
      ]
    },
    {
      "cell_type": "code",
      "source": [
        "#Weighted Support Vector Machine (SVM)\n",
        "from sklearn import svm\n",
        "from sklearn.svm import SVC\n",
        "model_SVM2= SVC(kernel='linear',class_weight={0: 0.32, 1: 0.68}, C=1.0, random_state=0)\n",
        "\n",
        "model_SVM2.fit(X_train, y_train)\n",
        "SVM2_pred= model_SVM2.predict(X_test)\n",
        "SVM2_score= round(model_SVM2.score(X_test, y_test),3)\n",
        "print(f'Accuracy Score: {SVM2_score}')\n",
        "\n",
        "SVM2_recall=round(recall_score(y_test,SVM2_pred),3)\n",
        "print(f'Recall Score: {SVM2_recall}')\n",
        "\n",
        "SVM2_prec=round(precision_score(y_test,SVM2_pred),3)\n",
        "print(f'Precision Score: {SVM2_prec}')\n",
        "\n",
        "SVM2_ROC_AUC=round(roc_auc_score(y_test,SVM2_pred),3)\n",
        "print(f'ROC_AUC Score: {SVM2_ROC_AUC}')\n",
        "\n",
        "SVM2_F1= round(2 /((1/SVM2_recall)+(1/SVM2_prec)),3)\n",
        "print(f'Precision Score: {SVM2_F1}')"
      ],
      "metadata": {
        "colab": {
          "base_uri": "https://localhost:8080/"
        },
        "id": "MVhczNbDPyWQ",
        "outputId": "1c9c64c3-0a9d-4067-e97e-753a95b55979"
      },
      "execution_count": 55,
      "outputs": [
        {
          "output_type": "stream",
          "name": "stdout",
          "text": [
            "Accuracy Score: 0.741\n",
            "Recall Score: 0.773\n",
            "Precision Score: 0.508\n",
            "ROC_AUC Score: 0.751\n",
            "Precision Score: 0.613\n"
          ]
        }
      ]
    },
    {
      "cell_type": "code",
      "source": [
        ""
      ],
      "metadata": {
        "id": "s8suvxFOPyYT"
      },
      "execution_count": null,
      "outputs": []
    },
    {
      "cell_type": "code",
      "source": [
        "comparison3_df= pd.DataFrame({\n",
        "    \"Models\" :           [ \"LG simple\", \"LG (Balanced)\", \"LG (Weighted)\", \"SVM simple\", \"SVM Balanced\",  \"SVM (Weighted)\"],\n",
        "    \"Accuracy Scores\" :  [LG1_score,   LG2_score,    LG3_score,          SVM_score,         SVM1_score,         SVM2_score],\n",
        "    \"Recall Scores\"   :  [LG1_recall,  LG2_recall,   LG3_recall,      SVM_recall,   SVM1_recall,  SVM2_recall],\n",
        "    \"Precision Scores\" : [LG1_prec,    LG2_prec,     LG3_prec,     SVM_prec,    SVM1_prec,    SVM2_prec],\n",
        "    \"ROC_AUC Scores\" :   [LG1_ROC_AUC, LG2_ROC_AUC,  LG3_ROC_AUC,  SVM_ROC_AUC, SVM1_ROC_AUC, SVM1_ROC_AUC],\n",
        "    \"F1 Scores\" :        [LG1_F1,      LG2_F1,       LG3_F1,       SVM_F1,      SVM1_F1,      SVM2_F1]\n",
        "})\n",
        "comparison3_df= comparison3_df.sort_values([\"F1 Scores\"], ascending=True)\n",
        "\n",
        "comparison3_df"
      ],
      "metadata": {
        "colab": {
          "base_uri": "https://localhost:8080/",
          "height": 238
        },
        "id": "XxlEVXoTPyah",
        "outputId": "f3b2b1a5-2787-48ab-bc04-17fd40d76050"
      },
      "execution_count": 56,
      "outputs": [
        {
          "output_type": "execute_result",
          "data": {
            "text/html": [
              "\n",
              "  <div id=\"df-1942ab68-3b2a-44c7-976c-bc6d1e079d2b\">\n",
              "    <div class=\"colab-df-container\">\n",
              "      <div>\n",
              "<style scoped>\n",
              "    .dataframe tbody tr th:only-of-type {\n",
              "        vertical-align: middle;\n",
              "    }\n",
              "\n",
              "    .dataframe tbody tr th {\n",
              "        vertical-align: top;\n",
              "    }\n",
              "\n",
              "    .dataframe thead th {\n",
              "        text-align: right;\n",
              "    }\n",
              "</style>\n",
              "<table border=\"1\" class=\"dataframe\">\n",
              "  <thead>\n",
              "    <tr style=\"text-align: right;\">\n",
              "      <th></th>\n",
              "      <th>Models</th>\n",
              "      <th>Accuracy Scores</th>\n",
              "      <th>Recall Scores</th>\n",
              "      <th>Precision Scores</th>\n",
              "      <th>ROC_AUC Scores</th>\n",
              "      <th>F1 Scores</th>\n",
              "    </tr>\n",
              "  </thead>\n",
              "  <tbody>\n",
              "    <tr>\n",
              "      <th>3</th>\n",
              "      <td>SVM simple</td>\n",
              "      <td>0.790</td>\n",
              "      <td>0.420</td>\n",
              "      <td>0.660</td>\n",
              "      <td>0.671</td>\n",
              "      <td>0.513</td>\n",
              "    </tr>\n",
              "    <tr>\n",
              "      <th>4</th>\n",
              "      <td>SVM Balanced</td>\n",
              "      <td>0.707</td>\n",
              "      <td>0.831</td>\n",
              "      <td>0.470</td>\n",
              "      <td>0.747</td>\n",
              "      <td>0.600</td>\n",
              "    </tr>\n",
              "    <tr>\n",
              "      <th>0</th>\n",
              "      <td>LG simple</td>\n",
              "      <td>0.806</td>\n",
              "      <td>0.567</td>\n",
              "      <td>0.656</td>\n",
              "      <td>0.730</td>\n",
              "      <td>0.608</td>\n",
              "    </tr>\n",
              "    <tr>\n",
              "      <th>1</th>\n",
              "      <td>LG (Balanced)</td>\n",
              "      <td>0.732</td>\n",
              "      <td>0.784</td>\n",
              "      <td>0.497</td>\n",
              "      <td>0.749</td>\n",
              "      <td>0.608</td>\n",
              "    </tr>\n",
              "    <tr>\n",
              "      <th>2</th>\n",
              "      <td>LG (Weighted)</td>\n",
              "      <td>0.735</td>\n",
              "      <td>0.777</td>\n",
              "      <td>0.500</td>\n",
              "      <td>0.748</td>\n",
              "      <td>0.608</td>\n",
              "    </tr>\n",
              "    <tr>\n",
              "      <th>5</th>\n",
              "      <td>SVM (Weighted)</td>\n",
              "      <td>0.741</td>\n",
              "      <td>0.773</td>\n",
              "      <td>0.508</td>\n",
              "      <td>0.747</td>\n",
              "      <td>0.613</td>\n",
              "    </tr>\n",
              "  </tbody>\n",
              "</table>\n",
              "</div>\n",
              "      <button class=\"colab-df-convert\" onclick=\"convertToInteractive('df-1942ab68-3b2a-44c7-976c-bc6d1e079d2b')\"\n",
              "              title=\"Convert this dataframe to an interactive table.\"\n",
              "              style=\"display:none;\">\n",
              "        \n",
              "  <svg xmlns=\"http://www.w3.org/2000/svg\" height=\"24px\"viewBox=\"0 0 24 24\"\n",
              "       width=\"24px\">\n",
              "    <path d=\"M0 0h24v24H0V0z\" fill=\"none\"/>\n",
              "    <path d=\"M18.56 5.44l.94 2.06.94-2.06 2.06-.94-2.06-.94-.94-2.06-.94 2.06-2.06.94zm-11 1L8.5 8.5l.94-2.06 2.06-.94-2.06-.94L8.5 2.5l-.94 2.06-2.06.94zm10 10l.94 2.06.94-2.06 2.06-.94-2.06-.94-.94-2.06-.94 2.06-2.06.94z\"/><path d=\"M17.41 7.96l-1.37-1.37c-.4-.4-.92-.59-1.43-.59-.52 0-1.04.2-1.43.59L10.3 9.45l-7.72 7.72c-.78.78-.78 2.05 0 2.83L4 21.41c.39.39.9.59 1.41.59.51 0 1.02-.2 1.41-.59l7.78-7.78 2.81-2.81c.8-.78.8-2.07 0-2.86zM5.41 20L4 18.59l7.72-7.72 1.47 1.35L5.41 20z\"/>\n",
              "  </svg>\n",
              "      </button>\n",
              "      \n",
              "  <style>\n",
              "    .colab-df-container {\n",
              "      display:flex;\n",
              "      flex-wrap:wrap;\n",
              "      gap: 12px;\n",
              "    }\n",
              "\n",
              "    .colab-df-convert {\n",
              "      background-color: #E8F0FE;\n",
              "      border: none;\n",
              "      border-radius: 50%;\n",
              "      cursor: pointer;\n",
              "      display: none;\n",
              "      fill: #1967D2;\n",
              "      height: 32px;\n",
              "      padding: 0 0 0 0;\n",
              "      width: 32px;\n",
              "    }\n",
              "\n",
              "    .colab-df-convert:hover {\n",
              "      background-color: #E2EBFA;\n",
              "      box-shadow: 0px 1px 2px rgba(60, 64, 67, 0.3), 0px 1px 3px 1px rgba(60, 64, 67, 0.15);\n",
              "      fill: #174EA6;\n",
              "    }\n",
              "\n",
              "    [theme=dark] .colab-df-convert {\n",
              "      background-color: #3B4455;\n",
              "      fill: #D2E3FC;\n",
              "    }\n",
              "\n",
              "    [theme=dark] .colab-df-convert:hover {\n",
              "      background-color: #434B5C;\n",
              "      box-shadow: 0px 1px 3px 1px rgba(0, 0, 0, 0.15);\n",
              "      filter: drop-shadow(0px 1px 2px rgba(0, 0, 0, 0.3));\n",
              "      fill: #FFFFFF;\n",
              "    }\n",
              "  </style>\n",
              "\n",
              "      <script>\n",
              "        const buttonEl =\n",
              "          document.querySelector('#df-1942ab68-3b2a-44c7-976c-bc6d1e079d2b button.colab-df-convert');\n",
              "        buttonEl.style.display =\n",
              "          google.colab.kernel.accessAllowed ? 'block' : 'none';\n",
              "\n",
              "        async function convertToInteractive(key) {\n",
              "          const element = document.querySelector('#df-1942ab68-3b2a-44c7-976c-bc6d1e079d2b');\n",
              "          const dataTable =\n",
              "            await google.colab.kernel.invokeFunction('convertToInteractive',\n",
              "                                                     [key], {});\n",
              "          if (!dataTable) return;\n",
              "\n",
              "          const docLinkHtml = 'Like what you see? Visit the ' +\n",
              "            '<a target=\"_blank\" href=https://colab.research.google.com/notebooks/data_table.ipynb>data table notebook</a>'\n",
              "            + ' to learn more about interactive tables.';\n",
              "          element.innerHTML = '';\n",
              "          dataTable['output_type'] = 'display_data';\n",
              "          await google.colab.output.renderOutput(dataTable, element);\n",
              "          const docLink = document.createElement('div');\n",
              "          docLink.innerHTML = docLinkHtml;\n",
              "          element.appendChild(docLink);\n",
              "        }\n",
              "      </script>\n",
              "    </div>\n",
              "  </div>\n",
              "  "
            ],
            "text/plain": [
              "           Models  Accuracy Scores  ...  ROC_AUC Scores  F1 Scores\n",
              "3      SVM simple            0.790  ...           0.671      0.513\n",
              "4    SVM Balanced            0.707  ...           0.747      0.600\n",
              "0       LG simple            0.806  ...           0.730      0.608\n",
              "1   LG (Balanced)            0.732  ...           0.749      0.608\n",
              "2   LG (Weighted)            0.735  ...           0.748      0.608\n",
              "5  SVM (Weighted)            0.741  ...           0.747      0.613\n",
              "\n",
              "[6 rows x 6 columns]"
            ]
          },
          "metadata": {},
          "execution_count": 56
        }
      ]
    },
    {
      "cell_type": "code",
      "source": [
        ""
      ],
      "metadata": {
        "id": "OSJnjkQchXRB"
      },
      "execution_count": null,
      "outputs": []
    },
    {
      "cell_type": "code",
      "source": [
        ""
      ],
      "metadata": {
        "id": "XJeqQzZ8hXTc"
      },
      "execution_count": null,
      "outputs": []
    },
    {
      "cell_type": "code",
      "source": [
        ""
      ],
      "metadata": {
        "id": "tl6ovoWwhXXy"
      },
      "execution_count": null,
      "outputs": []
    },
    {
      "cell_type": "code",
      "source": [
        ""
      ],
      "metadata": {
        "id": "TAzBXr4BhXZ6"
      },
      "execution_count": null,
      "outputs": []
    },
    {
      "cell_type": "code",
      "source": [
        ""
      ],
      "metadata": {
        "id": "PeOCTx76hXhc"
      },
      "execution_count": null,
      "outputs": []
    },
    {
      "cell_type": "code",
      "source": [
        ""
      ],
      "metadata": {
        "id": "viwy49REhXlU"
      },
      "execution_count": null,
      "outputs": []
    },
    {
      "cell_type": "code",
      "source": [
        ""
      ],
      "metadata": {
        "id": "pVnSPIVJhXos"
      },
      "execution_count": null,
      "outputs": []
    },
    {
      "cell_type": "code",
      "source": [
        ""
      ],
      "metadata": {
        "id": "GiPOj7kAhXtI"
      },
      "execution_count": null,
      "outputs": []
    },
    {
      "cell_type": "code",
      "source": [
        ""
      ],
      "metadata": {
        "id": "d3VNj8dihX2j"
      },
      "execution_count": null,
      "outputs": []
    },
    {
      "cell_type": "code",
      "source": [
        ""
      ],
      "metadata": {
        "id": "ifmSO6FzhYBH"
      },
      "execution_count": null,
      "outputs": []
    }
  ]
}